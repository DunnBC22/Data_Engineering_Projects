{
 "cells": [
  {
   "cell_type": "code",
   "execution_count": 1,
   "metadata": {},
   "outputs": [],
   "source": [
    "import pandas as pd"
   ]
  },
  {
   "cell_type": "code",
   "execution_count": 2,
   "metadata": {},
   "outputs": [
    {
     "name": "stdout",
     "output_type": "stream",
     "text": [
      "<class 'pandas.core.frame.DataFrame'>\n",
      "RangeIndex: 6578 entries, 0 to 6577\n",
      "Data columns (total 7 columns):\n",
      " #   Column             Non-Null Count  Dtype  \n",
      "---  ------             --------------  -----  \n",
      " 0   trading_date       6578 non-null   object \n",
      " 1   trading_open       6578 non-null   float64\n",
      " 2   trading_high       6578 non-null   float64\n",
      " 3   trading_low        6578 non-null   float64\n",
      " 4   trading_close      6578 non-null   float64\n",
      " 5   trading_adj_close  6578 non-null   float64\n",
      " 6   trading_volume     6578 non-null   int64  \n",
      "dtypes: float64(5), int64(1), object(1)\n",
      "memory usage: 359.9+ KB\n"
     ]
    }
   ],
   "source": [
    "data_file_path = '/Users/briandunn/Desktop/Apache_Kafka-Kafka_Connect/MAANG Share Prices Thru February 2024/orig-data/amazon.csv'\n",
    "\n",
    "df = pd.read_csv(data_file_path)\n",
    "\n",
    "df.info()\n",
    "\n",
    "df.to_csv(data_file_path, index=True, index_label='id')"
   ]
  },
  {
   "cell_type": "code",
   "execution_count": 3,
   "metadata": {},
   "outputs": [
    {
     "name": "stdout",
     "output_type": "stream",
     "text": [
      "<class 'pandas.core.frame.DataFrame'>\n",
      "RangeIndex: 10877 entries, 0 to 10876\n",
      "Data columns (total 7 columns):\n",
      " #   Column             Non-Null Count  Dtype  \n",
      "---  ------             --------------  -----  \n",
      " 0   trading_date       10877 non-null  object \n",
      " 1   trading_open       10877 non-null  float64\n",
      " 2   trading_high       10877 non-null  float64\n",
      " 3   trading_low        10877 non-null  float64\n",
      " 4   trading_close      10877 non-null  float64\n",
      " 5   trading_adj_close  10877 non-null  float64\n",
      " 6   trading_volume     10877 non-null  int64  \n",
      "dtypes: float64(5), int64(1), object(1)\n",
      "memory usage: 595.0+ KB\n"
     ]
    }
   ],
   "source": [
    "data_file_path = '/Users/briandunn/Desktop/Apache_Kafka-Kafka_Connect/MAANG Share Prices Thru February 2024/orig-data/apple.csv'\n",
    "\n",
    "df = pd.read_csv(data_file_path)\n",
    "\n",
    "df.info()\n",
    "\n",
    "df.to_csv(data_file_path, index=True, index_label='id')"
   ]
  },
  {
   "cell_type": "code",
   "execution_count": 4,
   "metadata": {},
   "outputs": [
    {
     "name": "stdout",
     "output_type": "stream",
     "text": [
      "<class 'pandas.core.frame.DataFrame'>\n",
      "RangeIndex: 4818 entries, 0 to 4817\n",
      "Data columns (total 7 columns):\n",
      " #   Column             Non-Null Count  Dtype  \n",
      "---  ------             --------------  -----  \n",
      " 0   trading_date       4818 non-null   object \n",
      " 1   trading_open       4818 non-null   float64\n",
      " 2   trading_high       4818 non-null   float64\n",
      " 3   trading_low        4818 non-null   float64\n",
      " 4   trading_close      4818 non-null   float64\n",
      " 5   trading_adj_close  4818 non-null   float64\n",
      " 6   trading_volume     4818 non-null   int64  \n",
      "dtypes: float64(5), int64(1), object(1)\n",
      "memory usage: 263.6+ KB\n"
     ]
    }
   ],
   "source": [
    "data_file_path = '/Users/briandunn/Desktop/Apache_Kafka-Kafka_Connect/MAANG Share Prices Thru February 2024/orig-data/google.csv'\n",
    "\n",
    "df = pd.read_csv(data_file_path)\n",
    "\n",
    "df.info()\n",
    "\n",
    "df.to_csv(data_file_path, index=True, index_label='id')"
   ]
  },
  {
   "cell_type": "code",
   "execution_count": 5,
   "metadata": {},
   "outputs": [
    {
     "name": "stdout",
     "output_type": "stream",
     "text": [
      "<class 'pandas.core.frame.DataFrame'>\n",
      "RangeIndex: 2805 entries, 0 to 2804\n",
      "Data columns (total 7 columns):\n",
      " #   Column             Non-Null Count  Dtype  \n",
      "---  ------             --------------  -----  \n",
      " 0   trading_date       2805 non-null   object \n",
      " 1   trading_open       2805 non-null   float64\n",
      " 2   trading_high       2805 non-null   float64\n",
      " 3   trading_low        2805 non-null   float64\n",
      " 4   trading_close      2805 non-null   float64\n",
      " 5   trading_adj_close  2805 non-null   float64\n",
      " 6   trading_volume     2805 non-null   int64  \n",
      "dtypes: float64(5), int64(1), object(1)\n",
      "memory usage: 153.5+ KB\n"
     ]
    }
   ],
   "source": [
    "data_file_path = '/Users/briandunn/Desktop/Apache_Kafka-Kafka_Connect/MAANG Share Prices Thru February 2024/orig-data/meta.csv'\n",
    "\n",
    "df = pd.read_csv(data_file_path)\n",
    "\n",
    "df.info()\n",
    "\n",
    "df.to_csv(data_file_path, index=True, index_label='id')"
   ]
  },
  {
   "cell_type": "code",
   "execution_count": 6,
   "metadata": {},
   "outputs": [
    {
     "name": "stdout",
     "output_type": "stream",
     "text": [
      "<class 'pandas.core.frame.DataFrame'>\n",
      "RangeIndex: 5322 entries, 0 to 5321\n",
      "Data columns (total 7 columns):\n",
      " #   Column             Non-Null Count  Dtype  \n",
      "---  ------             --------------  -----  \n",
      " 0   trading_date       5322 non-null   object \n",
      " 1   trading_open       5322 non-null   float64\n",
      " 2   trading_high       5322 non-null   float64\n",
      " 3   trading_low        5322 non-null   float64\n",
      " 4   trading_close      5322 non-null   float64\n",
      " 5   trading_adj_close  5322 non-null   float64\n",
      " 6   trading_volume     5322 non-null   int64  \n",
      "dtypes: float64(5), int64(1), object(1)\n",
      "memory usage: 291.2+ KB\n"
     ]
    }
   ],
   "source": [
    "data_file_path = '/Users/briandunn/Desktop/Apache_Kafka-Kafka_Connect/MAANG Share Prices Thru February 2024/orig-data/netflix.csv'\n",
    "\n",
    "df = pd.read_csv(data_file_path)\n",
    "\n",
    "df.info()\n",
    "\n",
    "df.to_csv(data_file_path, index=True, index_label='id')"
   ]
  }
 ],
 "metadata": {
  "kernelspec": {
   "display_name": "base",
   "language": "python",
   "name": "python3"
  },
  "language_info": {
   "codemirror_mode": {
    "name": "ipython",
    "version": 3
   },
   "file_extension": ".py",
   "mimetype": "text/x-python",
   "name": "python",
   "nbconvert_exporter": "python",
   "pygments_lexer": "ipython3",
   "version": "3.9.12"
  }
 },
 "nbformat": 4,
 "nbformat_minor": 2
}
