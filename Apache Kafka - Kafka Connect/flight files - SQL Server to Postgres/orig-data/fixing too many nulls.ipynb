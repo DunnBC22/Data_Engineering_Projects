{
 "cells": [
  {
   "cell_type": "code",
   "execution_count": 4,
   "metadata": {},
   "outputs": [],
   "source": [
    "def modify_and_save_file(input_file, output_file):\n",
    "    try:\n",
    "        with open(input_file, 'r') as f:\n",
    "            content = f.read()\n",
    "\n",
    "        # Perform string replacement\n",
    "        modified_content = content.replace(\" NULL, NULL, NULL, 'N');\", \" NULL, 'N');\")\n",
    "\n",
    "        # Write modified content to new file\n",
    "        with open(output_file, 'w') as f:\n",
    "            f.write(modified_content)\n",
    "\n",
    "        print(f\"File successfully modified and saved to {output_file}\")\n",
    "\n",
    "    except FileNotFoundError:\n",
    "        print(f\"Error: File '{input_file}' not found.\")\n",
    "\n",
    "    except Exception as e:\n",
    "        print(f\"An error occurred: {str(e)}\")\n"
   ]
  },
  {
   "cell_type": "code",
   "execution_count": 5,
   "metadata": {},
   "outputs": [
    {
     "name": "stdout",
     "output_type": "stream",
     "text": [
      "File successfully modified and saved to /Users/briandunn/Desktop/Apache_Kafka-Kafka_Connect_non_postgres/flight files - SQL Server to Cassandra/sql-server-source-scripts/3_schema_inserts_2022_1-1.sql\n"
     ]
    }
   ],
   "source": [
    "# Example usage:\n",
    "input_file_path = '/Users/briandunn/Desktop/Apache_Kafka-Kafka_Connect_non_postgres/flight files - SQL Server to Cassandra/sql-server-source-scripts/3_schema_inserts_2022_1.sql'\n",
    "output_file_path = '/Users/briandunn/Desktop/Apache_Kafka-Kafka_Connect_non_postgres/flight files - SQL Server to Cassandra/sql-server-source-scripts/3_schema_inserts_2022_1-1.sql'  \n",
    "\n",
    "modify_and_save_file(input_file_path, output_file_path)"
   ]
  }
 ],
 "metadata": {
  "kernelspec": {
   "display_name": "base",
   "language": "python",
   "name": "python3"
  },
  "language_info": {
   "codemirror_mode": {
    "name": "ipython",
    "version": 3
   },
   "file_extension": ".py",
   "mimetype": "text/x-python",
   "name": "python",
   "nbconvert_exporter": "python",
   "pygments_lexer": "ipython3",
   "version": "3.9.12"
  }
 },
 "nbformat": 4,
 "nbformat_minor": 2
}
