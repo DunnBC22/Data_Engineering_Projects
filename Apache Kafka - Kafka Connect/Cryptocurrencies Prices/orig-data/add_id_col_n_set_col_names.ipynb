{
 "cells": [
  {
   "cell_type": "code",
   "execution_count": 1,
   "metadata": {},
   "outputs": [],
   "source": [
    "import os\n",
    "import pandas as pd"
   ]
  },
  {
   "cell_type": "code",
   "execution_count": 2,
   "metadata": {},
   "outputs": [],
   "source": [
    "folder_name = '/Users/briandunn/Desktop/Apache Kafka- Kafka Connect/Cryptocurrencies Prices/data/'\n",
    "\n",
    "file_names_only = [\n",
    "    'AVAX-USD',\n",
    "    'SOL-USD',\n",
    "    'DOGE-USD',\n",
    "    'ADA-USD',\n",
    "    'XRP-USD',\n",
    "    'TRX-USD',\n",
    "    'BNB-USD',\n",
    "    'USDT-USD',\n",
    "    'BTC-USD',\n",
    "    'ETH-USD'\n",
    "    ]\n",
    "\n",
    "col_names = ['trading_date', 'trading_open', 'trading_high', 'trading_low', 'trading_close', 'trading_adj_close', 'trading_volume']"
   ]
  },
  {
   "cell_type": "code",
   "execution_count": 3,
   "metadata": {},
   "outputs": [],
   "source": [
    "for f in file_names_only:\n",
    "    data_file_name = os.path.join(folder_name, f + '.csv')\n",
    "    df = pd.read_csv(data_file_name)\n",
    "    df.to_csv(\n",
    "        data_file_name, \n",
    "        index=True,\n",
    "        index_label='trading_id',\n",
    "        header=col_names)"
   ]
  }
 ],
 "metadata": {
  "kernelspec": {
   "display_name": "NLP",
   "language": "python",
   "name": "python3"
  },
  "language_info": {
   "codemirror_mode": {
    "name": "ipython",
    "version": 3
   },
   "file_extension": ".py",
   "mimetype": "text/x-python",
   "name": "python",
   "nbconvert_exporter": "python",
   "pygments_lexer": "ipython3",
   "version": "3.9.12"
  }
 },
 "nbformat": 4,
 "nbformat_minor": 2
}
