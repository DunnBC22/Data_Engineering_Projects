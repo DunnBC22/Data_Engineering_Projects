{
 "cells": [
  {
   "cell_type": "code",
   "execution_count": 1,
   "metadata": {},
   "outputs": [],
   "source": [
    "import os\n",
    "import pandas as pd"
   ]
  },
  {
   "cell_type": "code",
   "execution_count": 2,
   "metadata": {},
   "outputs": [],
   "source": [
    "file_name = '/Users/briandunn/Desktop/Apache Kafka- Kafka Connect/Cryptocurrencies Prices/data/Ontario_Fuel_Prices_1990_2023.csv'\n",
    "\n",
    "col_names = [\n",
    "    'gas_price_id',\n",
    "    'gas_price_date', \n",
    "    'ottawa', \n",
    "    'toronto_west_region', \n",
    "    'toronto_east_region', \n",
    "    'windsor', \n",
    "    'London', \n",
    "    'peterborough_city', \n",
    "    'st_catharines', \n",
    "    'sudbury', \n",
    "    'sault_saint_marie', \n",
    "    'thunder_bay', \n",
    "    'north_bay', \n",
    "    'timmins', \n",
    "    'kenora', \n",
    "    'parry_sound', \n",
    "    'ontario_avg', \n",
    "    'southern_avg', \n",
    "    'northern_avg', \n",
    "    'fuel_type', \n",
    "    'type_de_carburant'\n",
    "    ]"
   ]
  },
  {
   "cell_type": "code",
   "execution_count": 4,
   "metadata": {},
   "outputs": [],
   "source": [
    "data_file = '/Users/briandunn/Desktop/Apache Kafka- Kafka Connect/Fuel Prices in Ontario/data/Ontario_Fuel_Prices_1990_2023.csv'\n",
    "df = pd.read_csv(data_file)\n",
    "df.to_csv(\n",
    "    data_file,\n",
    "    index=False,\n",
    "    header=col_names)"
   ]
  }
 ],
 "metadata": {
  "kernelspec": {
   "display_name": "NLP",
   "language": "python",
   "name": "python3"
  },
  "language_info": {
   "codemirror_mode": {
    "name": "ipython",
    "version": 3
   },
   "file_extension": ".py",
   "mimetype": "text/x-python",
   "name": "python",
   "nbconvert_exporter": "python",
   "pygments_lexer": "ipython3",
   "version": "3.9.12"
  }
 },
 "nbformat": 4,
 "nbformat_minor": 2
}
