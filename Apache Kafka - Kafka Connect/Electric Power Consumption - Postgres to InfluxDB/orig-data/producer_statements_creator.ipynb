{
 "cells": [
  {
   "cell_type": "code",
   "execution_count": 1,
   "metadata": {},
   "outputs": [],
   "source": [
    "import csv, re, os\n",
    "\n",
    "def generate_insert_statements(\n",
    "    csv_file, \n",
    "    create_stream_statement, \n",
    "    output_file, \n",
    "    table_name,\n",
    "    encoding='utf-8'\n",
    "):\n",
    "    # Extract content within parentheses\n",
    "    stream_content = re.search(r'\\((.*?)\\)', create_stream_statement, re.DOTALL).group(1)\n",
    "    \n",
    "    # Split content into individual column definitions\n",
    "    columns = re.findall(r'([a-zA-Z_]+)\\s+([a-zA-Z_]+)', stream_content)\n",
    "\n",
    "    # Extract column names and data types\n",
    "    column_names_create_stream = [col[0].strip() for col in columns]\n",
    "    data_types_create_stream = {col[0].strip(): col[1] for col in columns}\n",
    "\n",
    "    # Open the CSV file\n",
    "    with open(csv_file, newline='', encoding=encoding, errors='ignore') as csvfile:\n",
    "        reader = csv.DictReader(csvfile)\n",
    "        insert_statements = []\n",
    "\n",
    "        # Iterate over each row in the CSV\n",
    "        for row in reader:\n",
    "            columns = []\n",
    "            values = []\n",
    "\n",
    "            # Iterate over each column in the row\n",
    "            for field, value in row.items():\n",
    "                # Include all columns from the CSV file in INSERT INTO statement\n",
    "                columns.append(field)\n",
    "                if value is None or value.strip() == \"\":\n",
    "                    # Replace None values or empty strings with NULL\n",
    "                    values.append(\"NULL\")\n",
    "                else:\n",
    "                    # Handle non-empty values\n",
    "                    data_type = data_types_create_stream.get(field)\n",
    "                    if data_type == \"INTEGER\" or data_type == \"DOUBLE\" or data_type == \"FLOAT\":\n",
    "                        # Handle numerical data types\n",
    "                        values.append(value)\n",
    "                    elif data_type == \"TIMESTAMP\" or data_type == \"DATE\":\n",
    "                        # Handle timestamp and date data types\n",
    "                        values.append(\"'\" + str(value) + \"'\")\n",
    "                    else:\n",
    "                        # Handle other data types as strings\n",
    "                        values.append(\"'\" + str(value).replace(\"'\", \"''\") + \"'\")\n",
    "\n",
    "            # Construct the INSERT INTO statement with the specified table name\n",
    "            insert_statement = f\"INSERT INTO {table_name} ({','.join(columns)}) VALUES ({', '.join(values)});\"\n",
    "            insert_statements.append(insert_statement)\n",
    "\n",
    "    # Write insert statements to output file\n",
    "    with open(output_file, 'w', encoding=encoding, errors='ignore') as f:\n",
    "        for statement in insert_statements:\n",
    "            f.write(statement + '\\n')\n"
   ]
  },
  {
   "cell_type": "code",
   "execution_count": 2,
   "metadata": {},
   "outputs": [],
   "source": [
    "create_stream_statement = \"\"\"\n",
    "CREATE TABLE IF NOT EXISTS epc_table (\n",
    "    epc_datetime VARCHAR,\n",
    "    temperature FLOAT,\n",
    "    humidity FLOAT,\n",
    "    wind_speed FLOAT,\n",
    "    general_diffuse_flows FLOAT,\n",
    "    diffuse_flows FLOAT,\n",
    "    power_consumption_zone_1 FLOAT,\n",
    "    power_consumption_zone_2 FLOAT,\n",
    "    power_consumption_zone_3 FLOAT\n",
    ")\n",
    "\"\"\""
   ]
  },
  {
   "cell_type": "code",
   "execution_count": 3,
   "metadata": {},
   "outputs": [],
   "source": [
    "input_data_file = '/Users/briandunn/Desktop/Apache_Kafka-Kafka_Connect_non_postgres/Electric Power Consumption/orig-data/powerconsumption.csv'\n",
    "\n",
    "output_file_location = '/Users/briandunn/Desktop/Apache_Kafka-Kafka_Connect_non_postgres/Electric Power Consumption/source-scripts/3_inserts.sql'\n",
    "\n",
    "generate_insert_statements(\n",
    "    input_data_file, \n",
    "    create_stream_statement, \n",
    "    output_file_location,\n",
    "    \"epc_table\"\n",
    "    )"
   ]
  }
 ],
 "metadata": {
  "kernelspec": {
   "display_name": "env",
   "language": "python",
   "name": "python3"
  },
  "language_info": {
   "codemirror_mode": {
    "name": "ipython",
    "version": 3
   },
   "file_extension": ".py",
   "mimetype": "text/x-python",
   "name": "python",
   "nbconvert_exporter": "python",
   "pygments_lexer": "ipython3",
   "version": "3.9.12"
  }
 },
 "nbformat": 4,
 "nbformat_minor": 2
}
