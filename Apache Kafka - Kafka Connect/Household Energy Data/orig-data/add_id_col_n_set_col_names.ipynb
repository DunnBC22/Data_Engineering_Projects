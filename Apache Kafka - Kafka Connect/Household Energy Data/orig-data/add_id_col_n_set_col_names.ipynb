{
 "cells": [
  {
   "cell_type": "code",
   "execution_count": 4,
   "metadata": {},
   "outputs": [],
   "source": [
    "import os\n",
    "import pandas as pd"
   ]
  },
  {
   "cell_type": "code",
   "execution_count": 5,
   "metadata": {},
   "outputs": [],
   "source": [
    "col_names = [\n",
    "    'energy_type',\n",
    "    'energy_date',\n",
    "    'start_time',\n",
    "    'end_time',\n",
    "    'energy_usage',\n",
    "    'energy_units',\n",
    "    'energy_cost',\n",
    "    'notes'\n",
    "    ]"
   ]
  },
  {
   "cell_type": "code",
   "execution_count": 6,
   "metadata": {},
   "outputs": [],
   "source": [
    "data_file = '/Users/briandunn/Desktop/Apache Kafka- Kafka Connect/Household Energy Data/data/D202.csv'\n",
    "df = pd.read_csv(data_file)\n",
    "df.to_csv(\n",
    "    data_file,\n",
    "    index=True,\n",
    "    index_label='hh_nrg_id',\n",
    "    header=col_names)"
   ]
  }
 ],
 "metadata": {
  "kernelspec": {
   "display_name": "NLP",
   "language": "python",
   "name": "python3"
  },
  "language_info": {
   "codemirror_mode": {
    "name": "ipython",
    "version": 3
   },
   "file_extension": ".py",
   "mimetype": "text/x-python",
   "name": "python",
   "nbconvert_exporter": "python",
   "pygments_lexer": "ipython3",
   "version": "3.9.12"
  }
 },
 "nbformat": 4,
 "nbformat_minor": 2
}
