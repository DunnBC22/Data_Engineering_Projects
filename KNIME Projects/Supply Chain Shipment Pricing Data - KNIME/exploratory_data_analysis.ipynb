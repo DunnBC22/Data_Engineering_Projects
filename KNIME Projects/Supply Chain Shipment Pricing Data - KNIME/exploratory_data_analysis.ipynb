{
 "cells": [
  {
   "cell_type": "markdown",
   "metadata": {},
   "source": [
    "## Exploratory Data Analysis"
   ]
  },
  {
   "cell_type": "markdown",
   "metadata": {},
   "source": [
    "### Import Libraries"
   ]
  },
  {
   "cell_type": "code",
   "execution_count": 1,
   "metadata": {},
   "outputs": [],
   "source": [
    "import sys\n",
    "import polars as pl\n",
    "import polars.selectors as pol_sel"
   ]
  },
  {
   "cell_type": "markdown",
   "metadata": {},
   "source": [
    "### Show Python & Library Versions"
   ]
  },
  {
   "cell_type": "code",
   "execution_count": 2,
   "metadata": {},
   "outputs": [
    {
     "name": "stdout",
     "output_type": "stream",
     "text": [
      "  Python : 3.11.4      \n",
      "  Polars : 1.12.0      \n"
     ]
    }
   ],
   "source": [
    "l = 8\n",
    "r = 12\n",
    "\n",
    "print(\"Python\".rjust(l), \":\", sys.version[0:6].ljust(r))\n",
    "print(\"Polars\".rjust(l), \":\", pl.__version__.ljust(r))"
   ]
  },
  {
   "cell_type": "markdown",
   "metadata": {},
   "source": [
    "### Load CSV File into Polars DataFrame"
   ]
  },
  {
   "cell_type": "code",
   "execution_count": 3,
   "metadata": {},
   "outputs": [
    {
     "data": {
      "text/html": [
       "<div><style>\n",
       ".dataframe > thead > tr,\n",
       ".dataframe > tbody > tr {\n",
       "  text-align: right;\n",
       "  white-space: pre-wrap;\n",
       "}\n",
       "</style>\n",
       "<small>shape: (10_324, 33)</small><table border=\"1\" class=\"dataframe\"><thead><tr><th>id</th><th>project_code</th><th>pq_number</th><th>po_or_so_num</th><th>asn_or_dn_num</th><th>country_name</th><th>managed_by</th><th>fulfill_via</th><th>vendor_inco_term</th><th>shipment_mode</th><th>pq_first_sent_to_client_date</th><th>po_sent_to_vendor_date</th><th>scheduled_delivery_date</th><th>delivered_to_client_date</th><th>delivery_recorded_date</th><th>product_group</th><th>sub_classification</th><th>vendor</th><th>item_desc</th><th>molecule_or_test_type</th><th>brand</th><th>dosage</th><th>dosage_form</th><th>unit_of_measure_per_pack</th><th>line_item_quantity</th><th>line_item_value</th><th>pack_price</th><th>unit_price</th><th>manufacturing_site</th><th>first_line_designation</th><th>weight_in_kg</th><th>freight_cost_in_usd</th><th>line_item_insurance_in_usd</th></tr><tr><td>i64</td><td>str</td><td>str</td><td>str</td><td>str</td><td>str</td><td>str</td><td>str</td><td>str</td><td>str</td><td>str</td><td>str</td><td>str</td><td>str</td><td>str</td><td>str</td><td>str</td><td>str</td><td>str</td><td>str</td><td>str</td><td>str</td><td>str</td><td>i64</td><td>i64</td><td>f64</td><td>f64</td><td>f64</td><td>str</td><td>str</td><td>str</td><td>str</td><td>f64</td></tr></thead><tbody><tr><td>1</td><td>&quot;100-CI-T01&quot;</td><td>&quot;Pre-PQ Process&quot;</td><td>&quot;SCMS-4&quot;</td><td>&quot;ASN-8&quot;</td><td>&quot;Côte d&#x27;Ivoire&quot;</td><td>&quot;PMO - US&quot;</td><td>&quot;Direct Drop&quot;</td><td>&quot;EXW&quot;</td><td>&quot;Air&quot;</td><td>&quot;Pre-PQ Process&quot;</td><td>&quot;Date Not Captured&quot;</td><td>&quot;2-Jun-06&quot;</td><td>&quot;2-Jun-06&quot;</td><td>&quot;2-Jun-06&quot;</td><td>&quot;HRDT&quot;</td><td>&quot;HIV test&quot;</td><td>&quot;RANBAXY Fine Chemicals LTD.&quot;</td><td>&quot;HIV, Reveal G3 Rapid HIV-1 Ant…</td><td>&quot;HIV, Reveal G3 Rapid HIV-1 Ant…</td><td>&quot;Reveal&quot;</td><td>&quot;N/A&quot;</td><td>&quot;Test kit&quot;</td><td>30</td><td>19</td><td>551.0</td><td>29.0</td><td>0.97</td><td>&quot;Ranbaxy Fine Chemicals LTD&quot;</td><td>&quot;Yes&quot;</td><td>&quot;13&quot;</td><td>&quot;780.34&quot;</td><td>null</td></tr><tr><td>3</td><td>&quot;108-VN-T01&quot;</td><td>&quot;Pre-PQ Process&quot;</td><td>&quot;SCMS-13&quot;</td><td>&quot;ASN-85&quot;</td><td>&quot;Vietnam&quot;</td><td>&quot;PMO - US&quot;</td><td>&quot;Direct Drop&quot;</td><td>&quot;EXW&quot;</td><td>&quot;Air&quot;</td><td>&quot;Pre-PQ Process&quot;</td><td>&quot;Date Not Captured&quot;</td><td>&quot;14-Nov-06&quot;</td><td>&quot;14-Nov-06&quot;</td><td>&quot;14-Nov-06&quot;</td><td>&quot;ARV&quot;</td><td>&quot;Pediatric&quot;</td><td>&quot;Aurobindo Pharma Limited&quot;</td><td>&quot;Nevirapine 10mg/ml, oral suspe…</td><td>&quot;Nevirapine&quot;</td><td>&quot;Generic&quot;</td><td>&quot;10mg/ml&quot;</td><td>&quot;Oral suspension&quot;</td><td>240</td><td>1000</td><td>6200.0</td><td>6.2</td><td>0.03</td><td>&quot;Aurobindo Unit III, India&quot;</td><td>&quot;Yes&quot;</td><td>&quot;358&quot;</td><td>&quot;4521.5&quot;</td><td>null</td></tr><tr><td>4</td><td>&quot;100-CI-T01&quot;</td><td>&quot;Pre-PQ Process&quot;</td><td>&quot;SCMS-20&quot;</td><td>&quot;ASN-14&quot;</td><td>&quot;Côte d&#x27;Ivoire&quot;</td><td>&quot;PMO - US&quot;</td><td>&quot;Direct Drop&quot;</td><td>&quot;FCA&quot;</td><td>&quot;Air&quot;</td><td>&quot;Pre-PQ Process&quot;</td><td>&quot;Date Not Captured&quot;</td><td>&quot;27-Aug-06&quot;</td><td>&quot;27-Aug-06&quot;</td><td>&quot;27-Aug-06&quot;</td><td>&quot;HRDT&quot;</td><td>&quot;HIV test&quot;</td><td>&quot;Abbott GmbH &amp; Co. KG&quot;</td><td>&quot;HIV 1/2, Determine Complete HI…</td><td>&quot;HIV 1/2, Determine Complete HI…</td><td>&quot;Determine&quot;</td><td>&quot;N/A&quot;</td><td>&quot;Test kit&quot;</td><td>100</td><td>500</td><td>40000.0</td><td>80.0</td><td>0.8</td><td>&quot;ABBVIE GmbH &amp; Co.KG Wiesbaden&quot;</td><td>&quot;Yes&quot;</td><td>&quot;171&quot;</td><td>&quot;1653.78&quot;</td><td>null</td></tr><tr><td>15</td><td>&quot;108-VN-T01&quot;</td><td>&quot;Pre-PQ Process&quot;</td><td>&quot;SCMS-78&quot;</td><td>&quot;ASN-50&quot;</td><td>&quot;Vietnam&quot;</td><td>&quot;PMO - US&quot;</td><td>&quot;Direct Drop&quot;</td><td>&quot;EXW&quot;</td><td>&quot;Air&quot;</td><td>&quot;Pre-PQ Process&quot;</td><td>&quot;Date Not Captured&quot;</td><td>&quot;1-Sep-06&quot;</td><td>&quot;1-Sep-06&quot;</td><td>&quot;1-Sep-06&quot;</td><td>&quot;ARV&quot;</td><td>&quot;Adult&quot;</td><td>&quot;SUN PHARMACEUTICAL INDUSTRIES …</td><td>&quot;Lamivudine 150mg, tablets, 60 …</td><td>&quot;Lamivudine&quot;</td><td>&quot;Generic&quot;</td><td>&quot;150mg&quot;</td><td>&quot;Tablet&quot;</td><td>60</td><td>31920</td><td>127360.8</td><td>3.99</td><td>0.07</td><td>&quot;Ranbaxy, Paonta Shahib, India&quot;</td><td>&quot;Yes&quot;</td><td>&quot;1855&quot;</td><td>&quot;16007.06&quot;</td><td>null</td></tr><tr><td>16</td><td>&quot;108-VN-T01&quot;</td><td>&quot;Pre-PQ Process&quot;</td><td>&quot;SCMS-81&quot;</td><td>&quot;ASN-55&quot;</td><td>&quot;Vietnam&quot;</td><td>&quot;PMO - US&quot;</td><td>&quot;Direct Drop&quot;</td><td>&quot;EXW&quot;</td><td>&quot;Air&quot;</td><td>&quot;Pre-PQ Process&quot;</td><td>&quot;Date Not Captured&quot;</td><td>&quot;11-Aug-06&quot;</td><td>&quot;11-Aug-06&quot;</td><td>&quot;11-Aug-06&quot;</td><td>&quot;ARV&quot;</td><td>&quot;Adult&quot;</td><td>&quot;Aurobindo Pharma Limited&quot;</td><td>&quot;Stavudine 30mg, capsules, 60 C…</td><td>&quot;Stavudine&quot;</td><td>&quot;Generic&quot;</td><td>&quot;30mg&quot;</td><td>&quot;Capsule&quot;</td><td>60</td><td>38000</td><td>121600.0</td><td>3.2</td><td>0.05</td><td>&quot;Aurobindo Unit III, India&quot;</td><td>&quot;Yes&quot;</td><td>&quot;7590&quot;</td><td>&quot;45450.08&quot;</td><td>null</td></tr><tr><td>&hellip;</td><td>&hellip;</td><td>&hellip;</td><td>&hellip;</td><td>&hellip;</td><td>&hellip;</td><td>&hellip;</td><td>&hellip;</td><td>&hellip;</td><td>&hellip;</td><td>&hellip;</td><td>&hellip;</td><td>&hellip;</td><td>&hellip;</td><td>&hellip;</td><td>&hellip;</td><td>&hellip;</td><td>&hellip;</td><td>&hellip;</td><td>&hellip;</td><td>&hellip;</td><td>&hellip;</td><td>&hellip;</td><td>&hellip;</td><td>&hellip;</td><td>&hellip;</td><td>&hellip;</td><td>&hellip;</td><td>&hellip;</td><td>&hellip;</td><td>&hellip;</td><td>&hellip;</td><td>&hellip;</td></tr><tr><td>86818</td><td>&quot;103-ZW-T30&quot;</td><td>&quot;FPQ-15197&quot;</td><td>&quot;SO-50020&quot;</td><td>&quot;DN-4307&quot;</td><td>&quot;Zimbabwe&quot;</td><td>&quot;PMO - US&quot;</td><td>&quot;From RDC&quot;</td><td>&quot;N/A - From RDC&quot;</td><td>&quot;Truck&quot;</td><td>&quot;10/16/14&quot;</td><td>&quot;N/A - From RDC&quot;</td><td>&quot;31-Jul-15&quot;</td><td>&quot;15-Jul-15&quot;</td><td>&quot;20-Jul-15&quot;</td><td>&quot;ARV&quot;</td><td>&quot;Pediatric&quot;</td><td>&quot;SCMS from RDC&quot;</td><td>&quot;Lamivudine/Nevirapine/Zidovudi…</td><td>&quot;Lamivudine/Nevirapine/Zidovudi…</td><td>&quot;Generic&quot;</td><td>&quot;30/50/60mg&quot;</td><td>&quot;Chewable/dispersible tablet - …</td><td>60</td><td>166571</td><td>599655.6</td><td>3.6</td><td>0.06</td><td>&quot;Mylan,  H-12 &amp; H-13, India&quot;</td><td>&quot;No&quot;</td><td>&quot;See DN-4307 (ID#:83920)&quot;</td><td>&quot;See DN-4307 (ID#:83920)&quot;</td><td>705.79</td></tr><tr><td>86819</td><td>&quot;104-CI-T30&quot;</td><td>&quot;FPQ-15259&quot;</td><td>&quot;SO-50102&quot;</td><td>&quot;DN-4313&quot;</td><td>&quot;Côte d&#x27;Ivoire&quot;</td><td>&quot;PMO - US&quot;</td><td>&quot;From RDC&quot;</td><td>&quot;N/A - From RDC&quot;</td><td>&quot;Truck&quot;</td><td>&quot;10/24/14&quot;</td><td>&quot;N/A - From RDC&quot;</td><td>&quot;31-Jul-15&quot;</td><td>&quot;6-Aug-15&quot;</td><td>&quot;7-Aug-15&quot;</td><td>&quot;ARV&quot;</td><td>&quot;Adult&quot;</td><td>&quot;SCMS from RDC&quot;</td><td>&quot;Lamivudine/Zidovudine 150/300m…</td><td>&quot;Lamivudine/Zidovudine&quot;</td><td>&quot;Generic&quot;</td><td>&quot;150/300mg&quot;</td><td>&quot;Tablet - FDC&quot;</td><td>60</td><td>21072</td><td>137389.44</td><td>6.52</td><td>0.11</td><td>&quot;Hetero Unit III Hyderabad IN&quot;</td><td>&quot;No&quot;</td><td>&quot;See DN-4313 (ID#:83921)&quot;</td><td>&quot;See DN-4313 (ID#:83921)&quot;</td><td>161.71</td></tr><tr><td>86821</td><td>&quot;110-ZM-T30&quot;</td><td>&quot;FPQ-14784&quot;</td><td>&quot;SO-49600&quot;</td><td>&quot;DN-4316&quot;</td><td>&quot;Zambia&quot;</td><td>&quot;PMO - US&quot;</td><td>&quot;From RDC&quot;</td><td>&quot;N/A - From RDC&quot;</td><td>&quot;Truck&quot;</td><td>&quot;8/12/14&quot;</td><td>&quot;N/A - From RDC&quot;</td><td>&quot;31-Aug-15&quot;</td><td>&quot;25-Aug-15&quot;</td><td>&quot;3-Sep-15&quot;</td><td>&quot;ARV&quot;</td><td>&quot;Adult&quot;</td><td>&quot;SCMS from RDC&quot;</td><td>&quot;Efavirenz/Lamivudine/Tenofovir…</td><td>&quot;Efavirenz/Lamivudine/Tenofovir…</td><td>&quot;Generic&quot;</td><td>&quot;600/300/300mg&quot;</td><td>&quot;Tablet - FDC&quot;</td><td>30</td><td>514526</td><td>5.1401e6</td><td>9.99</td><td>0.33</td><td>&quot;Cipla Ltd A-42 MIDC Mahar. IN&quot;</td><td>&quot;No&quot;</td><td>&quot;Weight Captured Separately&quot;</td><td>&quot;Freight Included in Commodity …</td><td>5284.04</td></tr><tr><td>86822</td><td>&quot;200-ZW-T30&quot;</td><td>&quot;FPQ-16523&quot;</td><td>&quot;SO-51680&quot;</td><td>&quot;DN-4334&quot;</td><td>&quot;Zimbabwe&quot;</td><td>&quot;PMO - US&quot;</td><td>&quot;From RDC&quot;</td><td>&quot;N/A - From RDC&quot;</td><td>&quot;Truck&quot;</td><td>&quot;7/1/15&quot;</td><td>&quot;N/A - From RDC&quot;</td><td>&quot;9-Sep-15&quot;</td><td>&quot;4-Aug-15&quot;</td><td>&quot;11-Aug-15&quot;</td><td>&quot;ARV&quot;</td><td>&quot;Adult&quot;</td><td>&quot;SCMS from RDC&quot;</td><td>&quot;Lamivudine/Zidovudine 150/300m…</td><td>&quot;Lamivudine/Zidovudine&quot;</td><td>&quot;Generic&quot;</td><td>&quot;150/300mg&quot;</td><td>&quot;Tablet - FDC&quot;</td><td>60</td><td>17465</td><td>113871.8</td><td>6.52</td><td>0.11</td><td>&quot;Mylan (formerly Matrix) Nashik&quot;</td><td>&quot;Yes&quot;</td><td>&quot;1392&quot;</td><td>&quot;Freight Included in Commodity …</td><td>134.03</td></tr><tr><td>86823</td><td>&quot;103-ZW-T30&quot;</td><td>&quot;FPQ-15197&quot;</td><td>&quot;SO-50022&quot;</td><td>&quot;DN-4336&quot;</td><td>&quot;Zimbabwe&quot;</td><td>&quot;PMO - US&quot;</td><td>&quot;From RDC&quot;</td><td>&quot;N/A - From RDC&quot;</td><td>&quot;Truck&quot;</td><td>&quot;10/16/14&quot;</td><td>&quot;N/A - From RDC&quot;</td><td>&quot;31-Aug-15&quot;</td><td>&quot;4-Aug-15&quot;</td><td>&quot;11-Aug-15&quot;</td><td>&quot;ARV&quot;</td><td>&quot;Pediatric&quot;</td><td>&quot;SCMS from RDC&quot;</td><td>&quot;Lamivudine/Zidovudine 30/60mg,…</td><td>&quot;Lamivudine/Zidovudine&quot;</td><td>&quot;Generic&quot;</td><td>&quot;30/60mg&quot;</td><td>&quot;Chewable/dispersible tablet - …</td><td>60</td><td>36639</td><td>72911.61</td><td>1.99</td><td>0.03</td><td>&quot;Cipla, Goa, India&quot;</td><td>&quot;No&quot;</td><td>&quot;Weight Captured Separately&quot;</td><td>&quot;Freight Included in Commodity …</td><td>85.82</td></tr></tbody></table></div>"
      ],
      "text/plain": [
       "shape: (10_324, 33)\n",
       "┌───────┬────────────┬────────────┬────────────┬───┬───────────┬───────────┬───────────┬───────────┐\n",
       "│ id    ┆ project_co ┆ pq_number  ┆ po_or_so_n ┆ … ┆ first_lin ┆ weight_in ┆ freight_c ┆ line_item │\n",
       "│ ---   ┆ de         ┆ ---        ┆ um         ┆   ┆ e_designa ┆ _kg       ┆ ost_in_us ┆ _insuranc │\n",
       "│ i64   ┆ ---        ┆ str        ┆ ---        ┆   ┆ tion      ┆ ---       ┆ d         ┆ e_in_usd  │\n",
       "│       ┆ str        ┆            ┆ str        ┆   ┆ ---       ┆ str       ┆ ---       ┆ ---       │\n",
       "│       ┆            ┆            ┆            ┆   ┆ str       ┆           ┆ str       ┆ f64       │\n",
       "╞═══════╪════════════╪════════════╪════════════╪═══╪═══════════╪═══════════╪═══════════╪═══════════╡\n",
       "│ 1     ┆ 100-CI-T01 ┆ Pre-PQ     ┆ SCMS-4     ┆ … ┆ Yes       ┆ 13        ┆ 780.34    ┆ null      │\n",
       "│       ┆            ┆ Process    ┆            ┆   ┆           ┆           ┆           ┆           │\n",
       "│ 3     ┆ 108-VN-T01 ┆ Pre-PQ     ┆ SCMS-13    ┆ … ┆ Yes       ┆ 358       ┆ 4521.5    ┆ null      │\n",
       "│       ┆            ┆ Process    ┆            ┆   ┆           ┆           ┆           ┆           │\n",
       "│ 4     ┆ 100-CI-T01 ┆ Pre-PQ     ┆ SCMS-20    ┆ … ┆ Yes       ┆ 171       ┆ 1653.78   ┆ null      │\n",
       "│       ┆            ┆ Process    ┆            ┆   ┆           ┆           ┆           ┆           │\n",
       "│ 15    ┆ 108-VN-T01 ┆ Pre-PQ     ┆ SCMS-78    ┆ … ┆ Yes       ┆ 1855      ┆ 16007.06  ┆ null      │\n",
       "│       ┆            ┆ Process    ┆            ┆   ┆           ┆           ┆           ┆           │\n",
       "│ 16    ┆ 108-VN-T01 ┆ Pre-PQ     ┆ SCMS-81    ┆ … ┆ Yes       ┆ 7590      ┆ 45450.08  ┆ null      │\n",
       "│       ┆            ┆ Process    ┆            ┆   ┆           ┆           ┆           ┆           │\n",
       "│ …     ┆ …          ┆ …          ┆ …          ┆ … ┆ …         ┆ …         ┆ …         ┆ …         │\n",
       "│ 86818 ┆ 103-ZW-T30 ┆ FPQ-15197  ┆ SO-50020   ┆ … ┆ No        ┆ See       ┆ See       ┆ 705.79    │\n",
       "│       ┆            ┆            ┆            ┆   ┆           ┆ DN-4307   ┆ DN-4307   ┆           │\n",
       "│       ┆            ┆            ┆            ┆   ┆           ┆ (ID#:8392 ┆ (ID#:8392 ┆           │\n",
       "│       ┆            ┆            ┆            ┆   ┆           ┆ 0)        ┆ 0)        ┆           │\n",
       "│ 86819 ┆ 104-CI-T30 ┆ FPQ-15259  ┆ SO-50102   ┆ … ┆ No        ┆ See       ┆ See       ┆ 161.71    │\n",
       "│       ┆            ┆            ┆            ┆   ┆           ┆ DN-4313   ┆ DN-4313   ┆           │\n",
       "│       ┆            ┆            ┆            ┆   ┆           ┆ (ID#:8392 ┆ (ID#:8392 ┆           │\n",
       "│       ┆            ┆            ┆            ┆   ┆           ┆ 1)        ┆ 1)        ┆           │\n",
       "│ 86821 ┆ 110-ZM-T30 ┆ FPQ-14784  ┆ SO-49600   ┆ … ┆ No        ┆ Weight    ┆ Freight   ┆ 5284.04   │\n",
       "│       ┆            ┆            ┆            ┆   ┆           ┆ Captured  ┆ Included  ┆           │\n",
       "│       ┆            ┆            ┆            ┆   ┆           ┆ Separatel ┆ in        ┆           │\n",
       "│       ┆            ┆            ┆            ┆   ┆           ┆ y         ┆ Commodity ┆           │\n",
       "│       ┆            ┆            ┆            ┆   ┆           ┆           ┆ …         ┆           │\n",
       "│ 86822 ┆ 200-ZW-T30 ┆ FPQ-16523  ┆ SO-51680   ┆ … ┆ Yes       ┆ 1392      ┆ Freight   ┆ 134.03    │\n",
       "│       ┆            ┆            ┆            ┆   ┆           ┆           ┆ Included  ┆           │\n",
       "│       ┆            ┆            ┆            ┆   ┆           ┆           ┆ in        ┆           │\n",
       "│       ┆            ┆            ┆            ┆   ┆           ┆           ┆ Commodity ┆           │\n",
       "│       ┆            ┆            ┆            ┆   ┆           ┆           ┆ …         ┆           │\n",
       "│ 86823 ┆ 103-ZW-T30 ┆ FPQ-15197  ┆ SO-50022   ┆ … ┆ No        ┆ Weight    ┆ Freight   ┆ 85.82     │\n",
       "│       ┆            ┆            ┆            ┆   ┆           ┆ Captured  ┆ Included  ┆           │\n",
       "│       ┆            ┆            ┆            ┆   ┆           ┆ Separatel ┆ in        ┆           │\n",
       "│       ┆            ┆            ┆            ┆   ┆           ┆ y         ┆ Commodity ┆           │\n",
       "│       ┆            ┆            ┆            ┆   ┆           ┆           ┆ …         ┆           │\n",
       "└───────┴────────────┴────────────┴────────────┴───┴───────────┴───────────┴───────────┴───────────┘"
      ]
     },
     "execution_count": 3,
     "metadata": {},
     "output_type": "execute_result"
    }
   ],
   "source": [
    "df = pl.read_csv(\"data/dataset.csv\")\n",
    "\n",
    "df"
   ]
  },
  {
   "cell_type": "markdown",
   "metadata": {},
   "source": [
    "### Display First Few Rows to Understand Structure of Data"
   ]
  },
  {
   "cell_type": "code",
   "execution_count": 4,
   "metadata": {},
   "outputs": [
    {
     "name": "stdout",
     "output_type": "stream",
     "text": [
      "shape: (5, 33)\n",
      "┌─────┬────────────┬────────────┬────────────┬───┬────────────┬────────────┬───────────┬───────────┐\n",
      "│ id  ┆ project_co ┆ pq_number  ┆ po_or_so_n ┆ … ┆ first_line ┆ weight_in_ ┆ freight_c ┆ line_item │\n",
      "│ --- ┆ de         ┆ ---        ┆ um         ┆   ┆ _designati ┆ kg         ┆ ost_in_us ┆ _insuranc │\n",
      "│ i64 ┆ ---        ┆ str        ┆ ---        ┆   ┆ on         ┆ ---        ┆ d         ┆ e_in_usd  │\n",
      "│     ┆ str        ┆            ┆ str        ┆   ┆ ---        ┆ str        ┆ ---       ┆ ---       │\n",
      "│     ┆            ┆            ┆            ┆   ┆ str        ┆            ┆ str       ┆ f64       │\n",
      "╞═════╪════════════╪════════════╪════════════╪═══╪════════════╪════════════╪═══════════╪═══════════╡\n",
      "│ 1   ┆ 100-CI-T01 ┆ Pre-PQ     ┆ SCMS-4     ┆ … ┆ Yes        ┆ 13         ┆ 780.34    ┆ null      │\n",
      "│     ┆            ┆ Process    ┆            ┆   ┆            ┆            ┆           ┆           │\n",
      "│ 3   ┆ 108-VN-T01 ┆ Pre-PQ     ┆ SCMS-13    ┆ … ┆ Yes        ┆ 358        ┆ 4521.5    ┆ null      │\n",
      "│     ┆            ┆ Process    ┆            ┆   ┆            ┆            ┆           ┆           │\n",
      "│ 4   ┆ 100-CI-T01 ┆ Pre-PQ     ┆ SCMS-20    ┆ … ┆ Yes        ┆ 171        ┆ 1653.78   ┆ null      │\n",
      "│     ┆            ┆ Process    ┆            ┆   ┆            ┆            ┆           ┆           │\n",
      "│ 15  ┆ 108-VN-T01 ┆ Pre-PQ     ┆ SCMS-78    ┆ … ┆ Yes        ┆ 1855       ┆ 16007.06  ┆ null      │\n",
      "│     ┆            ┆ Process    ┆            ┆   ┆            ┆            ┆           ┆           │\n",
      "│ 16  ┆ 108-VN-T01 ┆ Pre-PQ     ┆ SCMS-81    ┆ … ┆ Yes        ┆ 7590       ┆ 45450.08  ┆ null      │\n",
      "│     ┆            ┆ Process    ┆            ┆   ┆            ┆            ┆           ┆           │\n",
      "└─────┴────────────┴────────────┴────────────┴───┴────────────┴────────────┴───────────┴───────────┘\n"
     ]
    }
   ],
   "source": [
    "print(df.head())"
   ]
  },
  {
   "cell_type": "markdown",
   "metadata": {},
   "source": [
    "### Retrieve Basic Information About DataFrame"
   ]
  },
  {
   "cell_type": "code",
   "execution_count": 5,
   "metadata": {},
   "outputs": [
    {
     "name": "stdout",
     "output_type": "stream",
     "text": [
      "(10324, 33)\n",
      "[Int64, String, String, String, String, String, String, String, String, String, String, String, String, String, String, String, String, String, String, String, String, String, String, Int64, Int64, Float64, Float64, Float64, String, String, String, String, Float64]\n"
     ]
    }
   ],
   "source": [
    "print(df.shape)\n",
    "print(df.dtypes)"
   ]
  },
  {
   "cell_type": "markdown",
   "metadata": {},
   "source": [
    "### Display Summary Statistics for All Columns"
   ]
  },
  {
   "cell_type": "code",
   "execution_count": 6,
   "metadata": {},
   "outputs": [
    {
     "name": "stdout",
     "output_type": "stream",
     "text": [
      "shape: (9, 34)\n",
      "┌───────────┬───────────┬───────────┬───────────┬───┬───────────┬───────────┬───────────┬──────────┐\n",
      "│ statistic ┆ id        ┆ project_c ┆ pq_number ┆ … ┆ first_lin ┆ weight_in ┆ freight_c ┆ line_ite │\n",
      "│ ---       ┆ ---       ┆ ode       ┆ ---       ┆   ┆ e_designa ┆ _kg       ┆ ost_in_us ┆ m_insura │\n",
      "│ str       ┆ f64       ┆ ---       ┆ str       ┆   ┆ tion      ┆ ---       ┆ d         ┆ nce_in_u │\n",
      "│           ┆           ┆ str       ┆           ┆   ┆ ---       ┆ str       ┆ ---       ┆ sd       │\n",
      "│           ┆           ┆           ┆           ┆   ┆ str       ┆           ┆ str       ┆ ---      │\n",
      "│           ┆           ┆           ┆           ┆   ┆           ┆           ┆           ┆ f64      │\n",
      "╞═══════════╪═══════════╪═══════════╪═══════════╪═══╪═══════════╪═══════════╪═══════════╪══════════╡\n",
      "│ count     ┆ 10324.0   ┆ 10324     ┆ 10324     ┆ … ┆ 10324     ┆ 10324     ┆ 10324     ┆ 10037.0  │\n",
      "│ null_coun ┆ 0.0       ┆ 0         ┆ 0         ┆ … ┆ 0         ┆ 0         ┆ 0         ┆ 287.0    │\n",
      "│ t         ┆           ┆           ┆           ┆   ┆           ┆           ┆           ┆          │\n",
      "│ mean      ┆ 51098.968 ┆ null      ┆ null      ┆ … ┆ null      ┆ null      ┆ null      ┆ 240.1176 │\n",
      "│           ┆ 229       ┆           ┆           ┆   ┆           ┆           ┆           ┆ 26       │\n",
      "│ std       ┆ 31944.332 ┆ null      ┆ null      ┆ … ┆ null      ┆ null      ┆ null      ┆ 500.1905 │\n",
      "│           ┆ 496       ┆           ┆           ┆   ┆           ┆           ┆           ┆ 68       │\n",
      "│ min       ┆ 1.0       ┆ 100-BJ-T3 ┆ FPQ-10015 ┆ … ┆ No        ┆ 0         ┆ 0.75      ┆ 0.0      │\n",
      "│           ┆           ┆ 0         ┆           ┆   ┆           ┆           ┆           ┆          │\n",
      "│ 25%       ┆ 12796.0   ┆ null      ┆ null      ┆ … ┆ null      ┆ null      ┆ null      ┆ 6.51     │\n",
      "│ 50%       ┆ 57541.0   ┆ null      ┆ null      ┆ … ┆ null      ┆ null      ┆ null      ┆ 47.04    │\n",
      "│ 75%       ┆ 83648.0   ┆ null      ┆ null      ┆ … ┆ null      ┆ null      ┆ null      ┆ 252.4    │\n",
      "│ max       ┆ 86823.0   ┆ A02-SN-T5 ┆ Pre-PQ    ┆ … ┆ Yes       ┆ Weight    ┆ See       ┆ 7708.44  │\n",
      "│           ┆           ┆ 0         ┆ Process   ┆   ┆           ┆ Captured  ┆ DN-998    ┆          │\n",
      "│           ┆           ┆           ┆           ┆   ┆           ┆ Separatel ┆ (ID#:1156 ┆          │\n",
      "│           ┆           ┆           ┆           ┆   ┆           ┆ y         ┆ 8)        ┆          │\n",
      "└───────────┴───────────┴───────────┴───────────┴───┴───────────┴───────────┴───────────┴──────────┘\n"
     ]
    }
   ],
   "source": [
    "summary = df.describe()\n",
    "print(summary)"
   ]
  },
  {
   "cell_type": "markdown",
   "metadata": {},
   "source": [
    "### Find Longest Text Length in Each Column"
   ]
  },
  {
   "cell_type": "code",
   "execution_count": 7,
   "metadata": {},
   "outputs": [
    {
     "data": {
      "text/html": [
       "<div><style>\n",
       ".dataframe > thead > tr,\n",
       ".dataframe > tbody > tr {\n",
       "  text-align: right;\n",
       "  white-space: pre-wrap;\n",
       "}\n",
       "</style>\n",
       "<small>shape: (1, 26)</small><table border=\"1\" class=\"dataframe\"><thead><tr><th>project_code</th><th>pq_number</th><th>po_or_so_num</th><th>asn_or_dn_num</th><th>country_name</th><th>managed_by</th><th>fulfill_via</th><th>vendor_inco_term</th><th>shipment_mode</th><th>pq_first_sent_to_client_date</th><th>po_sent_to_vendor_date</th><th>scheduled_delivery_date</th><th>delivered_to_client_date</th><th>delivery_recorded_date</th><th>product_group</th><th>sub_classification</th><th>vendor</th><th>item_desc</th><th>molecule_or_test_type</th><th>brand</th><th>dosage</th><th>dosage_form</th><th>manufacturing_site</th><th>first_line_designation</th><th>weight_in_kg</th><th>freight_cost_in_usd</th></tr><tr><td>u32</td><td>u32</td><td>u32</td><td>u32</td><td>u32</td><td>u32</td><td>u32</td><td>u32</td><td>u32</td><td>u32</td><td>u32</td><td>u32</td><td>u32</td><td>u32</td><td>u32</td><td>u32</td><td>u32</td><td>u32</td><td>u32</td><td>u32</td><td>u32</td><td>u32</td><td>u32</td><td>u32</td><td>u32</td><td>u32</td></tr></thead><tbody><tr><td>10</td><td>14</td><td>11</td><td>9</td><td>18</td><td>25</td><td>11</td><td>14</td><td>11</td><td>17</td><td>17</td><td>9</td><td>9</td><td>9</td><td>4</td><td>20</td><td>65</td><td>113</td><td>98</td><td>15</td><td>15</td><td>34</td><td>72</td><td>3</td><td>26</td><td>34</td></tr></tbody></table></div>"
      ],
      "text/plain": [
       "shape: (1, 26)\n",
       "┌───────────┬───────────┬───────────┬───────────┬───┬───────────┬───────────┬───────────┬──────────┐\n",
       "│ project_c ┆ pq_number ┆ po_or_so_ ┆ asn_or_dn ┆ … ┆ manufactu ┆ first_lin ┆ weight_in ┆ freight_ │\n",
       "│ ode       ┆ ---       ┆ num       ┆ _num      ┆   ┆ ring_site ┆ e_designa ┆ _kg       ┆ cost_in_ │\n",
       "│ ---       ┆ u32       ┆ ---       ┆ ---       ┆   ┆ ---       ┆ tion      ┆ ---       ┆ usd      │\n",
       "│ u32       ┆           ┆ u32       ┆ u32       ┆   ┆ u32       ┆ ---       ┆ u32       ┆ ---      │\n",
       "│           ┆           ┆           ┆           ┆   ┆           ┆ u32       ┆           ┆ u32      │\n",
       "╞═══════════╪═══════════╪═══════════╪═══════════╪═══╪═══════════╪═══════════╪═══════════╪══════════╡\n",
       "│ 10        ┆ 14        ┆ 11        ┆ 9         ┆ … ┆ 72        ┆ 3         ┆ 26        ┆ 34       │\n",
       "└───────────┴───────────┴───────────┴───────────┴───┴───────────┴───────────┴───────────┴──────────┘"
      ]
     },
     "execution_count": 7,
     "metadata": {},
     "output_type": "execute_result"
    }
   ],
   "source": [
    "# Create an empty list to store max lengths for each string column\n",
    "longest_text_lengths = []\n",
    "\n",
    "# Loop through the columns to check for string columns\n",
    "string_columns = [col for col in df.columns if df[col].dtype == pl.Utf8]\n",
    "\n",
    "max_lengths = {}\n",
    "for col in string_columns:\n",
    "    max_length = df.select(pl.col(col).str.len_chars().max()).to_numpy()[0, 0]\n",
    "    max_lengths[col] = max_length\n",
    "\n",
    "df_max_lengths = pl.DataFrame(max_lengths)\n",
    "\n",
    "df_max_lengths"
   ]
  },
  {
   "cell_type": "markdown",
   "metadata": {},
   "source": [
    "### Retrieve Data Types of All Columns"
   ]
  },
  {
   "cell_type": "code",
   "execution_count": 8,
   "metadata": {},
   "outputs": [
    {
     "name": "stdout",
     "output_type": "stream",
     "text": [
      "Column data types:\n",
      " [Int64, String, String, String, String, String, String, String, String, String, String, String, String, String, String, String, String, String, String, String, String, String, String, Int64, Int64, Float64, Float64, Float64, String, String, String, String, Float64]\n"
     ]
    }
   ],
   "source": [
    "print(\"Column data types:\\n\", df.dtypes)"
   ]
  },
  {
   "cell_type": "markdown",
   "metadata": {},
   "source": [
    "### Count Unique Values in Each Column"
   ]
  },
  {
   "cell_type": "code",
   "execution_count": null,
   "metadata": {},
   "outputs": [
    {
     "name": "stdout",
     "output_type": "stream",
     "text": [
      "                           Unique values in id : 10324 \n",
      "                 Unique values in project_code : 142   \n",
      "                    Unique values in pq_number : 1237  \n",
      "                 Unique values in po_or_so_num : 6233  \n",
      "                Unique values in asn_or_dn_num : 7030  \n",
      "                 Unique values in country_name : 43    \n",
      "                   Unique values in managed_by : 4     \n",
      "                  Unique values in fulfill_via : 2     \n",
      "             Unique values in vendor_inco_term : 8     \n",
      "                Unique values in shipment_mode : 5     \n",
      " Unique values in pq_first_sent_to_client_date : 765   \n",
      "       Unique values in po_sent_to_vendor_date : 897   \n",
      "      Unique values in scheduled_delivery_date : 2006  \n",
      "     Unique values in delivered_to_client_date : 2093  \n",
      "       Unique values in delivery_recorded_date : 2042  \n",
      "                Unique values in product_group : 5     \n",
      "           Unique values in sub_classification : 6     \n",
      "                       Unique values in vendor : 73    \n",
      "                    Unique values in item_desc : 184   \n",
      "        Unique values in molecule_or_test_type : 86    \n",
      "                        Unique values in brand : 48    \n",
      "                       Unique values in dosage : 55    \n",
      "                  Unique values in dosage_form : 17    \n",
      "     Unique values in unit_of_measure_per_pack : 31    \n",
      "           Unique values in line_item_quantity : 5065  \n",
      "              Unique values in line_item_value : 8741  \n",
      "                   Unique values in pack_price : 1175  \n",
      "                   Unique values in unit_price : 183   \n",
      "           Unique values in manufacturing_site : 88    \n",
      "       Unique values in first_line_designation : 2     \n",
      "                 Unique values in weight_in_kg : 4688  \n",
      "          Unique values in freight_cost_in_usd : 6733  \n",
      "   Unique values in line_item_insurance_in_usd : 6723  \n"
     ]
    }
   ],
   "source": [
    "all_columns = [col for col in df.columns]\n",
    "\n",
    "for col in all_columns:\n",
    "    unique_counts = df[col].n_unique()\n",
    "    print(f\"Unique values in {col} :\".rjust(48), f\"{unique_counts}\".ljust(6))"
   ]
  },
  {
   "cell_type": "markdown",
   "metadata": {},
   "source": [
    "### Check Distribution of Numerical Columns"
   ]
  },
  {
   "cell_type": "code",
   "execution_count": 10,
   "metadata": {},
   "outputs": [
    {
     "name": "stdout",
     "output_type": "stream",
     "text": [
      "unit_of_measure_per_pack\n",
      "shape: (9, 2)\n",
      "┌────────────┬──────────────────────────┐\n",
      "│ statistic  ┆ unit_of_measure_per_pack │\n",
      "│ ---        ┆ ---                      │\n",
      "│ str        ┆ f64                      │\n",
      "╞════════════╪══════════════════════════╡\n",
      "│ count      ┆ 10324.0                  │\n",
      "│ null_count ┆ 0.0                      │\n",
      "│ mean       ┆ 77.990895                │\n",
      "│ std        ┆ 76.579764                │\n",
      "│ min        ┆ 1.0                      │\n",
      "│ 25%        ┆ 30.0                     │\n",
      "│ 50%        ┆ 60.0                     │\n",
      "│ 75%        ┆ 90.0                     │\n",
      "│ max        ┆ 1000.0                   │\n",
      "└────────────┴──────────────────────────┘ \n",
      "\n",
      "\n",
      "line_item_quantity\n",
      "shape: (9, 2)\n",
      "┌────────────┬────────────────────┐\n",
      "│ statistic  ┆ line_item_quantity │\n",
      "│ ---        ┆ ---                │\n",
      "│ str        ┆ f64                │\n",
      "╞════════════╪════════════════════╡\n",
      "│ count      ┆ 10324.0            │\n",
      "│ null_count ┆ 0.0                │\n",
      "│ mean       ┆ 18332.53487        │\n",
      "│ std        ┆ 40035.302961       │\n",
      "│ min        ┆ 1.0                │\n",
      "│ 25%        ┆ 408.0              │\n",
      "│ 50%        ┆ 3000.0             │\n",
      "│ 75%        ┆ 17038.0            │\n",
      "│ max        ┆ 619999.0           │\n",
      "└────────────┴────────────────────┘ \n",
      "\n",
      "\n",
      "line_item_value\n",
      "shape: (9, 2)\n",
      "┌────────────┬─────────────────┐\n",
      "│ statistic  ┆ line_item_value │\n",
      "│ ---        ┆ ---             │\n",
      "│ str        ┆ f64             │\n",
      "╞════════════╪═════════════════╡\n",
      "│ count      ┆ 10324.0         │\n",
      "│ null_count ┆ 0.0             │\n",
      "│ mean       ┆ 157650.567347   │\n",
      "│ std        ┆ 345292.066979   │\n",
      "│ min        ┆ 0.0             │\n",
      "│ 25%        ┆ 4314.6          │\n",
      "│ 50%        ┆ 30492.93        │\n",
      "│ 75%        ┆ 166429.52       │\n",
      "│ max        ┆ 5951990.4       │\n",
      "└────────────┴─────────────────┘ \n",
      "\n",
      "\n",
      "pack_price\n",
      "shape: (9, 2)\n",
      "┌────────────┬────────────┐\n",
      "│ statistic  ┆ pack_price │\n",
      "│ ---        ┆ ---        │\n",
      "│ str        ┆ f64        │\n",
      "╞════════════╪════════════╡\n",
      "│ count      ┆ 10324.0    │\n",
      "│ null_count ┆ 0.0        │\n",
      "│ mean       ┆ 21.910241  │\n",
      "│ std        ┆ 45.609223  │\n",
      "│ min        ┆ 0.0        │\n",
      "│ 25%        ┆ 4.12       │\n",
      "│ 50%        ┆ 9.3        │\n",
      "│ 75%        ┆ 23.59      │\n",
      "│ max        ┆ 1345.64    │\n",
      "└────────────┴────────────┘ \n",
      "\n",
      "\n",
      "unit_price\n",
      "shape: (9, 2)\n",
      "┌────────────┬────────────┐\n",
      "│ statistic  ┆ unit_price │\n",
      "│ ---        ┆ ---        │\n",
      "│ str        ┆ f64        │\n",
      "╞════════════╪════════════╡\n",
      "│ count      ┆ 10324.0    │\n",
      "│ null_count ┆ 0.0        │\n",
      "│ mean       ┆ 0.611701   │\n",
      "│ std        ┆ 3.275808   │\n",
      "│ min        ┆ 0.0        │\n",
      "│ 25%        ┆ 0.08       │\n",
      "│ 50%        ┆ 0.16       │\n",
      "│ 75%        ┆ 0.47       │\n",
      "│ max        ┆ 238.65     │\n",
      "└────────────┴────────────┘ \n",
      "\n",
      "\n",
      "line_item_insurance_in_usd\n",
      "shape: (9, 2)\n",
      "┌────────────┬────────────────────────────┐\n",
      "│ statistic  ┆ line_item_insurance_in_usd │\n",
      "│ ---        ┆ ---                        │\n",
      "│ str        ┆ f64                        │\n",
      "╞════════════╪════════════════════════════╡\n",
      "│ count      ┆ 10037.0                    │\n",
      "│ null_count ┆ 287.0                      │\n",
      "│ mean       ┆ 240.117626                 │\n",
      "│ std        ┆ 500.190568                 │\n",
      "│ min        ┆ 0.0                        │\n",
      "│ 25%        ┆ 6.51                       │\n",
      "│ 50%        ┆ 47.04                      │\n",
      "│ 75%        ┆ 252.4                      │\n",
      "│ max        ┆ 7708.44                    │\n",
      "└────────────┴────────────────────────────┘ \n",
      "\n",
      "\n"
     ]
    }
   ],
   "source": [
    "numerical_cols = [item for item in all_columns if item not in string_columns]\n",
    "numerical_cols = [item for item in numerical_cols if item not in ['id']]\n",
    "\n",
    "numerical_cols\n",
    "\n",
    "for col in numerical_cols:\n",
    "    distribution = df.select(col).describe()\n",
    "    print(col)\n",
    "    print(distribution, '\\n\\n')"
   ]
  },
  {
   "cell_type": "markdown",
   "metadata": {},
   "source": [
    "### Retrieve Unique List of Values for Select Features/Columns"
   ]
  },
  {
   "cell_type": "code",
   "execution_count": 11,
   "metadata": {},
   "outputs": [
    {
     "name": "stdout",
     "output_type": "stream",
     "text": [
      "Column: country_name\n",
      "Unique values: ['Afghanistan', 'Angola', 'Belize', 'Benin', 'Botswana', 'Burkina Faso', 'Burundi', 'Cameroon', 'Congo, DRC', \"Côte d'Ivoire\", 'Dominican Republic', 'Ethiopia', 'Ghana', 'Guatemala', 'Guinea', 'Guyana', 'Haiti', 'Kazakhstan', 'Kenya', 'Kyrgyzstan', 'Lebanon', 'Lesotho', 'Liberia', 'Libya', 'Malawi', 'Mali', 'Mozambique', 'Namibia', 'Nigeria', 'Pakistan', 'Rwanda', 'Senegal', 'Sierra Leone', 'South Africa', 'South Sudan', 'Sudan', 'Swaziland', 'Tanzania', 'Togo', 'Uganda', 'Vietnam', 'Zambia', 'Zimbabwe']\n",
      "\n",
      "Column: managed_by\n",
      "Unique values: ['Ethiopia Field Office', 'Haiti Field Office', 'PMO - US', 'South Africa Field Office']\n",
      "\n",
      "Column: fulfill_via\n",
      "Unique values: ['Direct Drop', 'From RDC']\n",
      "\n",
      "Column: vendor_inco_term\n",
      "Unique values: ['CIF', 'CIP', 'DAP', 'DDP', 'DDU', 'EXW', 'FCA', 'N/A - From RDC']\n",
      "\n",
      "Column: shipment_mode\n",
      "Unique values: ['Air', 'Air Charter', 'N/A', 'Ocean', 'Truck']\n",
      "\n",
      "Column: product_group\n",
      "Unique values: ['ACT', 'ANTM', 'ARV', 'HRDT', 'MRDT']\n",
      "\n",
      "Column: sub_classification\n",
      "Unique values: ['ACT', 'Adult', 'HIV test', 'HIV test - Ancillary', 'Malaria', 'Pediatric']\n",
      "\n",
      "Column: vendor\n",
      "Unique values: ['ABBOTT LABORATORIES (PUERTO RICO)', 'ABBOTT LOGISTICS B.V.', 'ABBVIE LOGISTICS (FORMERLY ABBOTT LOGISTICS BV)', 'ABBVIE, SRL (FORMALLY ABBOTT LABORATORIES INTERNATIONAL CO.)', 'ACCESS BIO, INC.', 'ACCOUN NIGERIA LIMITED', 'ACOUNS NIGERIA LTD', 'ACTION MEDEOR E.V.', 'AHN (PTY) LTD (AKA UCB (S.A.)', 'AMSTELFARMA B.V.', 'ASPEN PHARMACARE', 'AUROBINDO PHARAM (SOUTH AFRICA)', 'Abbott GmbH & Co. KG', 'Aurobindo Pharma Limited', 'B&C GROUP S.A.', 'BIO-RAD LABORATORIES (FRANCE)', 'BIO-RAD LABORATORIES PTY LTD. (SOUTH AFRICA)', 'BIOLYTICAL LABORATORIES INC.', 'BRISTOL-MYERS SQUIBB', 'BUNDI INTERNATIONAL DIAGNOSTICS LTD', 'CENTRAL PHARMACEUTICAL COMPANY NO. 1', 'CHEMBIO DIAGNOSTIC SYSTEMS, INC.', 'CIPLA LIMITED', 'EMCURE PHARMACEUTICALS LTD', 'ETHNOR DEL ISTMO S.A.', 'EY Laboratories', 'GILEAD SCIENCES IRELAND, INC.', 'GLAXOSMITHKLINE EXPORT LIMITED', 'HETERO LABS LIMITED', 'HUMAN GMBH', 'Hoffmann-La Roche ltd Basel', 'IDA FOUNDATION', 'IDIS LIMITED', 'IMRES B.V.', 'INTERNATIONAL HEALTHCARE DISTRIBUTORS', 'INVERNESS MEDICAL INNOVATIONS HONG KONG LTD', 'INVERNESS MEDICAL INNOVATIONS SOUTH AFRICA (PTY) LTD', 'JANSSEN SCIENCES IRELAND UC (FORMERLY JANSSEN R&D IRELAND)', 'JSI R&T INSTITUTE, INC.', 'KAS MEDICS LIMITED', 'LAWRENCE LABORATORIES (SUBSIDIARY OF BRISTOL MYERS SQUIBB)', 'MEDMIRA EAST AFRICA LTD.', 'MERCK SHARP & DOHME IDEA GMBH (FORMALLY MERCK SHARP & DOHME B.V.)', 'MICRO LABS LIMITED', 'MISSIONPHARMA A/S', 'MSD LATIN AMERICA SERVICES, S. DE R.L. DE C.V.', 'MYLAN LABORATORIES LTD (FORMERLY MATRIX LABORATORIES)', 'NOVARTIS PHARMA SERVICES AG', 'OMEGA DIAGNOSTICS LTD', 'Orasure Technologies Inc.', 'Orgenics, Ltd', 'PHARMACY DIRECT', 'PLURIPHARM S.A.', 'PUETRO RICO PHARMACEUTICAL, INC.', 'Premier Medical Corporation Ltd.', 'RAININ INSTRUMENT, LLC.', 'RANBAXY Fine Chemicals LTD.', 'REINBOLD EXPORT IMPORT', 'S. BUYS WHOLESALER', 'SCMS from RDC', 'SETEMA LIMITED PLC', 'SHANGHAI KEHUA BIOENGINEERING CO.,LTD.  (KHB)', 'STRIDES ARCOLAB LIMITED', 'SUB-SAHARAN BIOMEDICAL P.L.C.', 'SUN PHARMACEUTICAL INDUSTRIES LTD (RANBAXY LABORATORIES LIMITED)', 'SWORDS LABORATORIES', 'SYSMEX AMERICA INC', 'Standard Diagnostics, Inc.', 'THE MEDICAL EXPORT GROUP BV', 'TURE PHARMACEUTICALS & MEDICAL SUPPLIES P.L.C.', 'Trinity Biotech, Plc', 'WAGENIA', 'ZEPHYR BIOMEDICALS']\n",
      "\n",
      "Column: dosage_form\n",
      "Unique values: ['Capsule', 'Chewable/dispersible tablet', 'Chewable/dispersible tablet - FDC', 'Delayed-release capsules', 'Delayed-release capsules - blister', 'Injection', 'Oral powder', 'Oral solution', 'Oral suspension', 'Powder for oral solution', 'Tablet', 'Tablet - FDC', 'Tablet - FDC + blister', 'Tablet - FDC + co-blister', 'Tablet - blister', 'Test kit', 'Test kit - Ancillary']\n",
      "\n",
      "Column: first_line_designation\n",
      "Unique values: ['No', 'Yes']\n",
      "\n"
     ]
    }
   ],
   "source": [
    "cols_to_check = [\n",
    "    \"country_name\", \n",
    "    \"managed_by\",\n",
    "    \"fulfill_via\", \n",
    "    \"vendor_inco_term\", \n",
    "    \"shipment_mode\", \n",
    "    \"product_group\", \n",
    "    \"sub_classification\", \n",
    "    \"vendor\", \n",
    "    \"dosage_form\", \n",
    "    \"first_line_designation\"\n",
    "    ]\n",
    "\n",
    "for col in cols_to_check:\n",
    "    unique_values = df[col].unique().sort().to_list()\n",
    "    print(f\"Column: {col}\")\n",
    "    print(f\"Unique values: {unique_values}\\n\")"
   ]
  }
 ],
 "metadata": {
  "kernelspec": {
   "display_name": "Python 3",
   "language": "python",
   "name": "python3"
  },
  "language_info": {
   "codemirror_mode": {
    "name": "ipython",
    "version": 3
   },
   "file_extension": ".py",
   "mimetype": "text/x-python",
   "name": "python",
   "nbconvert_exporter": "python",
   "pygments_lexer": "ipython3",
   "version": "3.11.4"
  }
 },
 "nbformat": 4,
 "nbformat_minor": 2
}
