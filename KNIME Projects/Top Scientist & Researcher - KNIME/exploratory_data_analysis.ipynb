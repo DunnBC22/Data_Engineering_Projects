{
 "cells": [
  {
   "cell_type": "markdown",
   "metadata": {},
   "source": [
    "## Exploratory Data Analysis"
   ]
  },
  {
   "cell_type": "markdown",
   "metadata": {},
   "source": [
    "### Import Libraries"
   ]
  },
  {
   "cell_type": "code",
   "execution_count": 1,
   "metadata": {},
   "outputs": [],
   "source": [
    "import sys\n",
    "import polars as pl\n",
    "import polars.selectors as pol_sel"
   ]
  },
  {
   "cell_type": "markdown",
   "metadata": {},
   "source": [
    "### Show Python & Library Versions"
   ]
  },
  {
   "cell_type": "code",
   "execution_count": 2,
   "metadata": {},
   "outputs": [
    {
     "name": "stdout",
     "output_type": "stream",
     "text": [
      "  Python : 3.11.4      \n",
      "  Polars : 1.12.0      \n"
     ]
    }
   ],
   "source": [
    "l = 8\n",
    "r = 12\n",
    "\n",
    "print(\"Python\".rjust(l), \":\", sys.version[0:6].ljust(r))\n",
    "print(\"Polars\".rjust(l), \":\", pl.__version__.ljust(r))"
   ]
  },
  {
   "cell_type": "markdown",
   "metadata": {},
   "source": [
    "### Load CSV File into Polars DataFrame"
   ]
  },
  {
   "cell_type": "code",
   "execution_count": 3,
   "metadata": {},
   "outputs": [
    {
     "data": {
      "text/html": [
       "<div><style>\n",
       ".dataframe > thead > tr,\n",
       ".dataframe > tbody > tr {\n",
       "  text-align: right;\n",
       "  white-space: pre-wrap;\n",
       "}\n",
       "</style>\n",
       "<small>shape: (15_500, 15)</small><table border=\"1\" class=\"dataframe\"><thead><tr><th>id</th><th>Name</th><th>Position</th><th>Department</th><th>University</th><th>Location</th><th>Profile URL</th><th>Expertise</th><th>Experience</th><th>Qualification</th><th>Honours and Awards</th><th>Highest Qualification</th><th>Has Awards</th><th>Start Year</th><th>Years of Experience</th></tr><tr><td>i64</td><td>str</td><td>str</td><td>str</td><td>str</td><td>str</td><td>str</td><td>str</td><td>str</td><td>str</td><td>str</td><td>str</td><td>i64</td><td>f64</td><td>f64</td></tr></thead><tbody><tr><td>556330</td><td>&quot;Ms Dixita Kagathara&quot;</td><td>&quot;Assistant Professor&quot;</td><td>&quot;Department of Computer Science…</td><td>&quot;Darshan University&quot;</td><td>&quot;Gujarat&quot;</td><td>&quot;https://darshan.irins.org/prof…</td><td>&quot;Computer Science Software Engi…</td><td>&quot;2021 -                        …</td><td>&quot;2013; MTech; Gujarat Universit…</td><td>null</td><td>&quot;MTech&quot;</td><td>0</td><td>2021.0</td><td>3.0</td></tr><tr><td>556331</td><td>&quot;Mr Firoz Sherasiya&quot;</td><td>&quot;Assistant Professor&quot;</td><td>&quot;Department of Computer Science…</td><td>&quot;Darshan University&quot;</td><td>&quot;Gujarat&quot;</td><td>&quot;https://darshan.irins.org/prof…</td><td>&quot;Computer Science Software Engi…</td><td>&quot;2022 -                        …</td><td>&quot;2015; MTech; Gujarat Technolog…</td><td>null</td><td>&quot;MTech&quot;</td><td>0</td><td>2022.0</td><td>2.0</td></tr><tr><td>556358</td><td>&quot;Mr Bhavin Kanani&quot;</td><td>&quot;Assistant Professor&quot;</td><td>&quot;Department of Electrical Engin…</td><td>&quot;Darshan University&quot;</td><td>&quot;Gujarat&quot;</td><td>&quot;https://darshan.irins.org/prof…</td><td>&quot;Electrical and Electronic Engi…</td><td>&quot;2021 -                        …</td><td>&quot;2008; PhD; Gujarat Technologic…</td><td>null</td><td>&quot;PhD&quot;</td><td>0</td><td>2021.0</td><td>3.0</td></tr><tr><td>556374</td><td>&quot;Ms Vrunda Amrutiya&quot;</td><td>&quot;Assistant Professor&quot;</td><td>&quot;Department of Humanities and S…</td><td>&quot;Darshan University&quot;</td><td>&quot;Gujarat&quot;</td><td>&quot;https://darshan.irins.org/prof…</td><td>&quot;Humanities, Multidisciplinary&quot;</td><td>&quot;2024 -                        …</td><td>&quot;2023; MSc; Saurashtra Universi…</td><td>null</td><td>&quot;MSc&quot;</td><td>0</td><td>2024.0</td><td>0.0</td></tr><tr><td>556357</td><td>&quot;Mr Raj Mehta&quot;</td><td>&quot;Assistant Professor&quot;</td><td>&quot;Department of Electrical Engin…</td><td>&quot;Darshan University&quot;</td><td>&quot;Gujarat&quot;</td><td>&quot;https://darshan.irins.org/prof…</td><td>&quot;Electrical and Electronic Engi…</td><td>&quot;2021 -                        …</td><td>&quot;2017; MTech; V.I.T. University…</td><td>null</td><td>&quot;MTech&quot;</td><td>0</td><td>2021.0</td><td>3.0</td></tr><tr><td>&hellip;</td><td>&hellip;</td><td>&hellip;</td><td>&hellip;</td><td>&hellip;</td><td>&hellip;</td><td>&hellip;</td><td>&hellip;</td><td>&hellip;</td><td>&hellip;</td><td>&hellip;</td><td>&hellip;</td><td>&hellip;</td><td>&hellip;</td><td>&hellip;</td></tr><tr><td>204095</td><td>&quot;Prof Shib Shankar Banerjee&quot;</td><td>&quot;Assistant Professor&quot;</td><td>&quot;Department of Materials Scienc…</td><td>&quot;Indian Institute of Technology…</td><td>&quot;Delhi&quot;</td><td>&quot;https://iitd.irins.org/profile…</td><td>&quot;Materials Science Multidiscipl…</td><td>&quot;2020 -                        …</td><td>&quot;2016; Ph.D; Indian Institute o…</td><td>null</td><td>&quot;Ph.D&quot;</td><td>0</td><td>2020.0</td><td>4.0</td></tr><tr><td>202739</td><td>&quot;Mrs Aparna R&quot;</td><td>&quot;Assistant Professor&quot;</td><td>&quot;Department of Computer Science…</td><td>&quot;M S Ramaiah Institute of Techn…</td><td>&quot;Karnataka&quot;</td><td>&quot;https://msrit.irins.org/profil…</td><td>&quot;Computer Science Theory and Me…</td><td>&quot;2015 -                        …</td><td>&quot;2007; M.Tech&quot;</td><td>null</td><td>&quot;M.Tech&quot;</td><td>0</td><td>2015.0</td><td>9.0</td></tr><tr><td>170536</td><td>&quot;Dr Abhishek Majumder&quot;</td><td>&quot;Associate Professor&quot;</td><td>null</td><td>&quot;Tripura University&quot;</td><td>&quot;Tripura&quot;</td><td>&quot;https://tripurauniv.irins.org/…</td><td>&quot;Computer Science Information S…</td><td>&quot;2023 -                        …</td><td>&quot;2018; Ph.D; Assam University&quot;</td><td>&quot;[&#x27;2006; GATE scholarchip; AICT…</td><td>&quot;Ph.D&quot;</td><td>1</td><td>2023.0</td><td>1.0</td></tr><tr><td>206814</td><td>&quot;Dr Jaya Kishor Seth&quot;</td><td>&quot;Assistant Professor (Grade-II)&quot;</td><td>&quot;Department of Zoology&quot;</td><td>&quot;Berhampur University&quot;</td><td>&quot;Odisha&quot;</td><td>&quot;https://buodisha.irins.org/pro…</td><td>&quot;Zoology&quot;</td><td>&quot;2022 -                        …</td><td>&quot;2020; Ph.D.; Berhampur Univers…</td><td>&quot;[&#x27;2024; Gold and Elite; NPTEL …</td><td>&quot;Ph.D&quot;</td><td>1</td><td>2022.0</td><td>2.0</td></tr><tr><td>199308</td><td>&quot;Dr Rachel Reena Philip&quot;</td><td>&quot;Principal&quot;</td><td>&quot;Department of Physics&quot;</td><td>&quot;Union Christian College, Aluva&quot;</td><td>&quot;Kerala&quot;</td><td>&quot;https://uccollege.irins.org/pr…</td><td>&quot;Applied Physics&quot;</td><td>&quot;2021 -                        …</td><td>&quot;2002; PhD; Mahatma Gandhi Univ…</td><td>null</td><td>&quot;PhD&quot;</td><td>0</td><td>2021.0</td><td>3.0</td></tr></tbody></table></div>"
      ],
      "text/plain": [
       "shape: (15_500, 15)\n",
       "┌────────┬─────────────┬─────────────┬─────────────┬───┬────────────┬────────┬────────┬────────────┐\n",
       "│ id     ┆ Name        ┆ Position    ┆ Department  ┆ … ┆ Highest    ┆ Has    ┆ Start  ┆ Years of   │\n",
       "│ ---    ┆ ---         ┆ ---         ┆ ---         ┆   ┆ Qualificat ┆ Awards ┆ Year   ┆ Experience │\n",
       "│ i64    ┆ str         ┆ str         ┆ str         ┆   ┆ ion        ┆ ---    ┆ ---    ┆ ---        │\n",
       "│        ┆             ┆             ┆             ┆   ┆ ---        ┆ i64    ┆ f64    ┆ f64        │\n",
       "│        ┆             ┆             ┆             ┆   ┆ str        ┆        ┆        ┆            │\n",
       "╞════════╪═════════════╪═════════════╪═════════════╪═══╪════════════╪════════╪════════╪════════════╡\n",
       "│ 556330 ┆ Ms Dixita   ┆ Assistant   ┆ Department  ┆ … ┆ MTech      ┆ 0      ┆ 2021.0 ┆ 3.0        │\n",
       "│        ┆ Kagathara   ┆ Professor   ┆ of Computer ┆   ┆            ┆        ┆        ┆            │\n",
       "│        ┆             ┆             ┆ Science…    ┆   ┆            ┆        ┆        ┆            │\n",
       "│ 556331 ┆ Mr Firoz    ┆ Assistant   ┆ Department  ┆ … ┆ MTech      ┆ 0      ┆ 2022.0 ┆ 2.0        │\n",
       "│        ┆ Sherasiya   ┆ Professor   ┆ of Computer ┆   ┆            ┆        ┆        ┆            │\n",
       "│        ┆             ┆             ┆ Science…    ┆   ┆            ┆        ┆        ┆            │\n",
       "│ 556358 ┆ Mr Bhavin   ┆ Assistant   ┆ Department  ┆ … ┆ PhD        ┆ 0      ┆ 2021.0 ┆ 3.0        │\n",
       "│        ┆ Kanani      ┆ Professor   ┆ of          ┆   ┆            ┆        ┆        ┆            │\n",
       "│        ┆             ┆             ┆ Electrical  ┆   ┆            ┆        ┆        ┆            │\n",
       "│        ┆             ┆             ┆ Engin…      ┆   ┆            ┆        ┆        ┆            │\n",
       "│ 556374 ┆ Ms Vrunda   ┆ Assistant   ┆ Department  ┆ … ┆ MSc        ┆ 0      ┆ 2024.0 ┆ 0.0        │\n",
       "│        ┆ Amrutiya    ┆ Professor   ┆ of          ┆   ┆            ┆        ┆        ┆            │\n",
       "│        ┆             ┆             ┆ Humanities  ┆   ┆            ┆        ┆        ┆            │\n",
       "│        ┆             ┆             ┆ and S…      ┆   ┆            ┆        ┆        ┆            │\n",
       "│ 556357 ┆ Mr Raj      ┆ Assistant   ┆ Department  ┆ … ┆ MTech      ┆ 0      ┆ 2021.0 ┆ 3.0        │\n",
       "│        ┆ Mehta       ┆ Professor   ┆ of          ┆   ┆            ┆        ┆        ┆            │\n",
       "│        ┆             ┆             ┆ Electrical  ┆   ┆            ┆        ┆        ┆            │\n",
       "│        ┆             ┆             ┆ Engin…      ┆   ┆            ┆        ┆        ┆            │\n",
       "│ …      ┆ …           ┆ …           ┆ …           ┆ … ┆ …          ┆ …      ┆ …      ┆ …          │\n",
       "│ 204095 ┆ Prof Shib   ┆ Assistant   ┆ Department  ┆ … ┆ Ph.D       ┆ 0      ┆ 2020.0 ┆ 4.0        │\n",
       "│        ┆ Shankar     ┆ Professor   ┆ of          ┆   ┆            ┆        ┆        ┆            │\n",
       "│        ┆ Banerjee    ┆             ┆ Materials   ┆   ┆            ┆        ┆        ┆            │\n",
       "│        ┆             ┆             ┆ Scienc…     ┆   ┆            ┆        ┆        ┆            │\n",
       "│ 202739 ┆ Mrs Aparna  ┆ Assistant   ┆ Department  ┆ … ┆ M.Tech     ┆ 0      ┆ 2015.0 ┆ 9.0        │\n",
       "│        ┆ R           ┆ Professor   ┆ of Computer ┆   ┆            ┆        ┆        ┆            │\n",
       "│        ┆             ┆             ┆ Science…    ┆   ┆            ┆        ┆        ┆            │\n",
       "│ 170536 ┆ Dr Abhishek ┆ Associate   ┆ null        ┆ … ┆ Ph.D       ┆ 1      ┆ 2023.0 ┆ 1.0        │\n",
       "│        ┆ Majumder    ┆ Professor   ┆             ┆   ┆            ┆        ┆        ┆            │\n",
       "│ 206814 ┆ Dr Jaya     ┆ Assistant   ┆ Department  ┆ … ┆ Ph.D       ┆ 1      ┆ 2022.0 ┆ 2.0        │\n",
       "│        ┆ Kishor Seth ┆ Professor   ┆ of Zoology  ┆   ┆            ┆        ┆        ┆            │\n",
       "│        ┆             ┆ (Grade-II)  ┆             ┆   ┆            ┆        ┆        ┆            │\n",
       "│ 199308 ┆ Dr Rachel   ┆ Principal   ┆ Department  ┆ … ┆ PhD        ┆ 0      ┆ 2021.0 ┆ 3.0        │\n",
       "│        ┆ Reena       ┆             ┆ of Physics  ┆   ┆            ┆        ┆        ┆            │\n",
       "│        ┆ Philip      ┆             ┆             ┆   ┆            ┆        ┆        ┆            │\n",
       "└────────┴─────────────┴─────────────┴─────────────┴───┴────────────┴────────┴────────┴────────────┘"
      ]
     },
     "execution_count": 3,
     "metadata": {},
     "output_type": "execute_result"
    }
   ],
   "source": [
    "df = pl.read_csv(\"data/dataset.csv\")\n",
    "\n",
    "df"
   ]
  },
  {
   "cell_type": "markdown",
   "metadata": {},
   "source": [
    "### Display First Few Rows to Understand Structure of Data"
   ]
  },
  {
   "cell_type": "code",
   "execution_count": 4,
   "metadata": {},
   "outputs": [
    {
     "name": "stdout",
     "output_type": "stream",
     "text": [
      "shape: (5, 15)\n",
      "┌────────┬─────────────┬─────────────┬─────────────┬───┬────────────┬────────┬────────┬────────────┐\n",
      "│ id     ┆ Name        ┆ Position    ┆ Department  ┆ … ┆ Highest    ┆ Has    ┆ Start  ┆ Years of   │\n",
      "│ ---    ┆ ---         ┆ ---         ┆ ---         ┆   ┆ Qualificat ┆ Awards ┆ Year   ┆ Experience │\n",
      "│ i64    ┆ str         ┆ str         ┆ str         ┆   ┆ ion        ┆ ---    ┆ ---    ┆ ---        │\n",
      "│        ┆             ┆             ┆             ┆   ┆ ---        ┆ i64    ┆ f64    ┆ f64        │\n",
      "│        ┆             ┆             ┆             ┆   ┆ str        ┆        ┆        ┆            │\n",
      "╞════════╪═════════════╪═════════════╪═════════════╪═══╪════════════╪════════╪════════╪════════════╡\n",
      "│ 556330 ┆ Ms Dixita   ┆ Assistant   ┆ Department  ┆ … ┆ MTech      ┆ 0      ┆ 2021.0 ┆ 3.0        │\n",
      "│        ┆ Kagathara   ┆ Professor   ┆ of Computer ┆   ┆            ┆        ┆        ┆            │\n",
      "│        ┆             ┆             ┆ Science…    ┆   ┆            ┆        ┆        ┆            │\n",
      "│ 556331 ┆ Mr Firoz    ┆ Assistant   ┆ Department  ┆ … ┆ MTech      ┆ 0      ┆ 2022.0 ┆ 2.0        │\n",
      "│        ┆ Sherasiya   ┆ Professor   ┆ of Computer ┆   ┆            ┆        ┆        ┆            │\n",
      "│        ┆             ┆             ┆ Science…    ┆   ┆            ┆        ┆        ┆            │\n",
      "│ 556358 ┆ Mr Bhavin   ┆ Assistant   ┆ Department  ┆ … ┆ PhD        ┆ 0      ┆ 2021.0 ┆ 3.0        │\n",
      "│        ┆ Kanani      ┆ Professor   ┆ of          ┆   ┆            ┆        ┆        ┆            │\n",
      "│        ┆             ┆             ┆ Electrical  ┆   ┆            ┆        ┆        ┆            │\n",
      "│        ┆             ┆             ┆ Engin…      ┆   ┆            ┆        ┆        ┆            │\n",
      "│ 556374 ┆ Ms Vrunda   ┆ Assistant   ┆ Department  ┆ … ┆ MSc        ┆ 0      ┆ 2024.0 ┆ 0.0        │\n",
      "│        ┆ Amrutiya    ┆ Professor   ┆ of          ┆   ┆            ┆        ┆        ┆            │\n",
      "│        ┆             ┆             ┆ Humanities  ┆   ┆            ┆        ┆        ┆            │\n",
      "│        ┆             ┆             ┆ and S…      ┆   ┆            ┆        ┆        ┆            │\n",
      "│ 556357 ┆ Mr Raj      ┆ Assistant   ┆ Department  ┆ … ┆ MTech      ┆ 0      ┆ 2021.0 ┆ 3.0        │\n",
      "│        ┆ Mehta       ┆ Professor   ┆ of          ┆   ┆            ┆        ┆        ┆            │\n",
      "│        ┆             ┆             ┆ Electrical  ┆   ┆            ┆        ┆        ┆            │\n",
      "│        ┆             ┆             ┆ Engin…      ┆   ┆            ┆        ┆        ┆            │\n",
      "└────────┴─────────────┴─────────────┴─────────────┴───┴────────────┴────────┴────────┴────────────┘\n"
     ]
    }
   ],
   "source": [
    "print(df.head())"
   ]
  },
  {
   "cell_type": "markdown",
   "metadata": {},
   "source": [
    "### Retrieve Basic Information About DataFrame"
   ]
  },
  {
   "cell_type": "code",
   "execution_count": 5,
   "metadata": {},
   "outputs": [
    {
     "name": "stdout",
     "output_type": "stream",
     "text": [
      "(15500, 15)\n",
      "[Int64, String, String, String, String, String, String, String, String, String, String, String, Int64, Float64, Float64]\n"
     ]
    }
   ],
   "source": [
    "print(df.shape)\n",
    "print(df.dtypes)"
   ]
  },
  {
   "cell_type": "markdown",
   "metadata": {},
   "source": [
    "### Display Summary Statistics for All Columns"
   ]
  },
  {
   "cell_type": "code",
   "execution_count": 6,
   "metadata": {},
   "outputs": [
    {
     "name": "stdout",
     "output_type": "stream",
     "text": [
      "shape: (9, 16)\n",
      "┌───────────┬───────────┬───────────┬───────────┬───┬───────────┬───────────┬───────────┬──────────┐\n",
      "│ statistic ┆ id        ┆ Name      ┆ Position  ┆ … ┆ Highest   ┆ Has       ┆ Start     ┆ Years of │\n",
      "│ ---       ┆ ---       ┆ ---       ┆ ---       ┆   ┆ Qualifica ┆ Awards    ┆ Year      ┆ Experien │\n",
      "│ str       ┆ f64       ┆ str       ┆ str       ┆   ┆ tion      ┆ ---       ┆ ---       ┆ ce       │\n",
      "│           ┆           ┆           ┆           ┆   ┆ ---       ┆ f64       ┆ f64       ┆ ---      │\n",
      "│           ┆           ┆           ┆           ┆   ┆ str       ┆           ┆           ┆ f64      │\n",
      "╞═══════════╪═══════════╪═══════════╪═══════════╪═══╪═══════════╪═══════════╪═══════════╪══════════╡\n",
      "│ count     ┆ 15500.0   ┆ 15500     ┆ 15500     ┆ … ┆ 15500     ┆ 15500.0   ┆ 15197.0   ┆ 15197.0  │\n",
      "│ null_coun ┆ 0.0       ┆ 0         ┆ 0         ┆ … ┆ 0         ┆ 0.0       ┆ 303.0     ┆ 303.0    │\n",
      "│ t         ┆           ┆           ┆           ┆   ┆           ┆           ┆           ┆          │\n",
      "│ mean      ┆ 166327.30 ┆ null      ┆ null      ┆ … ┆ null      ┆ 0.457032  ┆ 2012.0298 ┆ 11.97012 │\n",
      "│           ┆ 2194      ┆           ┆           ┆   ┆           ┆           ┆ 74        ┆ 6        │\n",
      "│ std       ┆ 125222.51 ┆ null      ┆ null      ┆ … ┆ null      ┆ 0.498166  ┆ 9.580049  ┆ 9.580049 │\n",
      "│           ┆ 8653      ┆           ┆           ┆   ┆           ┆           ┆           ┆          │\n",
      "│ min       ┆ 4.0       ┆ Ananth    ┆ Academic  ┆ … ┆ B.Tech    ┆ 0.0       ┆ 1969.0    ┆ 0.0      │\n",
      "│           ┆           ┆ Selvaraja ┆ Consultan ┆   ┆           ┆           ┆           ┆          │\n",
      "│           ┆           ┆ n         ┆ t         ┆   ┆           ┆           ┆           ┆          │\n",
      "│ 25%       ┆ 61372.0   ┆ null      ┆ null      ┆ … ┆ null      ┆ 0.0       ┆ 2007.0    ┆ 4.0      │\n",
      "│ 50%       ┆ 129325.0  ┆ null      ┆ null      ┆ … ┆ null      ┆ 0.0       ┆ 2014.0    ┆ 10.0     │\n",
      "│ 75%       ┆ 232280.0  ┆ null      ┆ null      ┆ … ┆ null      ┆ 1.0       ┆ 2020.0    ┆ 17.0     │\n",
      "│ max       ┆ 582602.0  ┆ pajmera   ┆ professor ┆ … ┆ PhD       ┆ 1.0       ┆ 2024.0    ┆ 55.0     │\n",
      "│           ┆           ┆ dpsru     ┆           ┆   ┆           ┆           ┆           ┆          │\n",
      "└───────────┴───────────┴───────────┴───────────┴───┴───────────┴───────────┴───────────┴──────────┘\n"
     ]
    }
   ],
   "source": [
    "summary = df.describe()\n",
    "print(summary)"
   ]
  },
  {
   "cell_type": "markdown",
   "metadata": {},
   "source": [
    "### Find Longest Text Length in Each Column"
   ]
  },
  {
   "cell_type": "code",
   "execution_count": 7,
   "metadata": {},
   "outputs": [
    {
     "data": {
      "text/html": [
       "<div><style>\n",
       ".dataframe > thead > tr,\n",
       ".dataframe > tbody > tr {\n",
       "  text-align: right;\n",
       "  white-space: pre-wrap;\n",
       "}\n",
       "</style>\n",
       "<small>shape: (1, 11)</small><table border=\"1\" class=\"dataframe\"><thead><tr><th>Name</th><th>Position</th><th>Department</th><th>University</th><th>Location</th><th>Profile URL</th><th>Expertise</th><th>Experience</th><th>Qualification</th><th>Honours and Awards</th><th>Highest Qualification</th></tr><tr><td>u32</td><td>u32</td><td>u32</td><td>u32</td><td>u32</td><td>u32</td><td>u32</td><td>u32</td><td>u32</td><td>u32</td><td>u32</td></tr></thead><tbody><tr><td>196</td><td>50</td><td>109</td><td>129</td><td>27</td><td>57</td><td>168</td><td>2584</td><td>4632</td><td>15942</td><td>9</td></tr></tbody></table></div>"
      ],
      "text/plain": [
       "shape: (1, 11)\n",
       "┌──────┬──────────┬────────────┬────────────┬───┬────────────┬────────────┬────────────┬───────────┐\n",
       "│ Name ┆ Position ┆ Department ┆ University ┆ … ┆ Experience ┆ Qualificat ┆ Honours    ┆ Highest   │\n",
       "│ ---  ┆ ---      ┆ ---        ┆ ---        ┆   ┆ ---        ┆ ion        ┆ and Awards ┆ Qualifica │\n",
       "│ u32  ┆ u32      ┆ u32        ┆ u32        ┆   ┆ u32        ┆ ---        ┆ ---        ┆ tion      │\n",
       "│      ┆          ┆            ┆            ┆   ┆            ┆ u32        ┆ u32        ┆ ---       │\n",
       "│      ┆          ┆            ┆            ┆   ┆            ┆            ┆            ┆ u32       │\n",
       "╞══════╪══════════╪════════════╪════════════╪═══╪════════════╪════════════╪════════════╪═══════════╡\n",
       "│ 196  ┆ 50       ┆ 109        ┆ 129        ┆ … ┆ 2584       ┆ 4632       ┆ 15942      ┆ 9         │\n",
       "└──────┴──────────┴────────────┴────────────┴───┴────────────┴────────────┴────────────┴───────────┘"
      ]
     },
     "execution_count": 7,
     "metadata": {},
     "output_type": "execute_result"
    }
   ],
   "source": [
    "# Create an empty list to store max lengths for each string column\n",
    "longest_text_lengths = []\n",
    "\n",
    "# Loop through the columns to check for string columns\n",
    "string_columns = [col for col in df.columns if df[col].dtype == pl.Utf8]\n",
    "\n",
    "max_lengths = {}\n",
    "for col in string_columns:\n",
    "    max_length = df.select(pl.col(col).str.len_chars().max()).to_numpy()[0, 0]\n",
    "    max_lengths[col] = max_length\n",
    "\n",
    "df_max_lengths = pl.DataFrame(max_lengths)\n",
    "\n",
    "df_max_lengths"
   ]
  },
  {
   "cell_type": "markdown",
   "metadata": {},
   "source": [
    "### Retrieve Data Types of All Columns"
   ]
  },
  {
   "cell_type": "code",
   "execution_count": 8,
   "metadata": {},
   "outputs": [
    {
     "name": "stdout",
     "output_type": "stream",
     "text": [
      "Column data types:\n",
      " [Int64, String, String, String, String, String, String, String, String, String, String, String, Int64, Float64, Float64]\n"
     ]
    }
   ],
   "source": [
    "print(\"Column data types:\\n\", df.dtypes)"
   ]
  },
  {
   "cell_type": "markdown",
   "metadata": {},
   "source": [
    "### Count Unique Values in Each Column"
   ]
  },
  {
   "cell_type": "code",
   "execution_count": 9,
   "metadata": {},
   "outputs": [
    {
     "name": "stdout",
     "output_type": "stream",
     "text": [
      "                           Unique values in id : 15500 \n",
      "                         Unique values in Name : 14995 \n",
      "                     Unique values in Position : 189   \n",
      "                   Unique values in Department : 2231  \n",
      "                   Unique values in University : 1166  \n",
      "                     Unique values in Location : 109   \n",
      "                  Unique values in Profile URL : 15500 \n",
      "                    Unique values in Expertise : 442   \n",
      "                   Unique values in Experience : 14185 \n",
      "                Unique values in Qualification : 11755 \n",
      "           Unique values in Honours and Awards : 7071  \n",
      "        Unique values in Highest Qualification : 10    \n",
      "                   Unique values in Has Awards : 2     \n",
      "                   Unique values in Start Year : 54    \n",
      "          Unique values in Years of Experience : 54    \n"
     ]
    }
   ],
   "source": [
    "all_columns = [col for col in df.columns]\n",
    "\n",
    "for col in all_columns:\n",
    "    unique_counts = df[col].n_unique()\n",
    "    print(f\"Unique values in {col} :\".rjust(48), f\"{unique_counts}\".ljust(6))"
   ]
  },
  {
   "cell_type": "markdown",
   "metadata": {},
   "source": [
    "### Check Distribution of Numerical Columns"
   ]
  },
  {
   "cell_type": "code",
   "execution_count": 10,
   "metadata": {},
   "outputs": [
    {
     "name": "stdout",
     "output_type": "stream",
     "text": [
      "Has Awards\n",
      "shape: (9, 2)\n",
      "┌────────────┬────────────┐\n",
      "│ statistic  ┆ Has Awards │\n",
      "│ ---        ┆ ---        │\n",
      "│ str        ┆ f64        │\n",
      "╞════════════╪════════════╡\n",
      "│ count      ┆ 15500.0    │\n",
      "│ null_count ┆ 0.0        │\n",
      "│ mean       ┆ 0.457032   │\n",
      "│ std        ┆ 0.498166   │\n",
      "│ min        ┆ 0.0        │\n",
      "│ 25%        ┆ 0.0        │\n",
      "│ 50%        ┆ 0.0        │\n",
      "│ 75%        ┆ 1.0        │\n",
      "│ max        ┆ 1.0        │\n",
      "└────────────┴────────────┘ \n",
      "\n",
      "\n",
      "Start Year\n",
      "shape: (9, 2)\n",
      "┌────────────┬─────────────┐\n",
      "│ statistic  ┆ Start Year  │\n",
      "│ ---        ┆ ---         │\n",
      "│ str        ┆ f64         │\n",
      "╞════════════╪═════════════╡\n",
      "│ count      ┆ 15197.0     │\n",
      "│ null_count ┆ 303.0       │\n",
      "│ mean       ┆ 2012.029874 │\n",
      "│ std        ┆ 9.580049    │\n",
      "│ min        ┆ 1969.0      │\n",
      "│ 25%        ┆ 2007.0      │\n",
      "│ 50%        ┆ 2014.0      │\n",
      "│ 75%        ┆ 2020.0      │\n",
      "│ max        ┆ 2024.0      │\n",
      "└────────────┴─────────────┘ \n",
      "\n",
      "\n",
      "Years of Experience\n",
      "shape: (9, 2)\n",
      "┌────────────┬─────────────────────┐\n",
      "│ statistic  ┆ Years of Experience │\n",
      "│ ---        ┆ ---                 │\n",
      "│ str        ┆ f64                 │\n",
      "╞════════════╪═════════════════════╡\n",
      "│ count      ┆ 15197.0             │\n",
      "│ null_count ┆ 303.0               │\n",
      "│ mean       ┆ 11.970126           │\n",
      "│ std        ┆ 9.580049            │\n",
      "│ min        ┆ 0.0                 │\n",
      "│ 25%        ┆ 4.0                 │\n",
      "│ 50%        ┆ 10.0                │\n",
      "│ 75%        ┆ 17.0                │\n",
      "│ max        ┆ 55.0                │\n",
      "└────────────┴─────────────────────┘ \n",
      "\n",
      "\n"
     ]
    }
   ],
   "source": [
    "numerical_cols = [item for item in all_columns if item not in string_columns]\n",
    "numerical_cols = [item for item in numerical_cols if item not in ['id']]\n",
    "\n",
    "numerical_cols\n",
    "\n",
    "for col in numerical_cols:\n",
    "    distribution = df.select(col).describe()\n",
    "    print(col)\n",
    "    print(distribution, '\\n\\n')"
   ]
  },
  {
   "cell_type": "markdown",
   "metadata": {},
   "source": [
    "### Retrieve Unique List of Values for Select Features/Columns"
   ]
  },
  {
   "cell_type": "code",
   "execution_count": 14,
   "metadata": {},
   "outputs": [
    {
     "name": "stdout",
     "output_type": "stream",
     "text": [
      "Column: Highest Qualification [10]\n",
      "Unique values: ['B.Tech', 'BTech', 'Doctorate', 'M.Sc', 'M.Tech', 'MSc', 'MTech', 'Other', 'Ph.D', 'PhD']\n",
      "\n",
      "Column: Has Awards [2]\n",
      "Unique values: [0, 1]\n",
      "\n",
      "Column: Start Year [54]\n",
      "Unique values: [None, 1969.0, 1971.0, 1974.0, 1975.0, 1976.0, 1977.0, 1978.0, 1979.0, 1980.0, 1981.0, 1982.0, 1983.0, 1984.0, 1985.0, 1986.0, 1987.0, 1988.0, 1989.0, 1990.0, 1991.0, 1992.0, 1993.0, 1994.0, 1995.0, 1996.0, 1997.0, 1998.0, 1999.0, 2000.0, 2001.0, 2002.0, 2003.0, 2004.0, 2005.0, 2006.0, 2007.0, 2008.0, 2009.0, 2010.0, 2011.0, 2012.0, 2013.0, 2014.0, 2015.0, 2016.0, 2017.0, 2018.0, 2019.0, 2020.0, 2021.0, 2022.0, 2023.0, 2024.0]\n",
      "\n",
      "Column: Years of Experience [54]\n",
      "Unique values: [None, 0.0, 1.0, 2.0, 3.0, 4.0, 5.0, 6.0, 7.0, 8.0, 9.0, 10.0, 11.0, 12.0, 13.0, 14.0, 15.0, 16.0, 17.0, 18.0, 19.0, 20.0, 21.0, 22.0, 23.0, 24.0, 25.0, 26.0, 27.0, 28.0, 29.0, 30.0, 31.0, 32.0, 33.0, 34.0, 35.0, 36.0, 37.0, 38.0, 39.0, 40.0, 41.0, 42.0, 43.0, 44.0, 45.0, 46.0, 47.0, 48.0, 49.0, 50.0, 53.0, 55.0]\n",
      "\n"
     ]
    }
   ],
   "source": [
    "cols_2_check = [\n",
    "    \"Highest Qualification\",\n",
    "    \"Has Awards\",\n",
    "    \"Start Year\",\n",
    "    \"Years of Experience\"\n",
    "]\n",
    "\n",
    "for col in cols_2_check:\n",
    "    unique_values = df[col].unique().sort().to_list()\n",
    "    print(f\"Column: {col} [{len(unique_values)}]\")\n",
    "    print(f\"Unique values: {unique_values}\\n\")"
   ]
  }
 ],
 "metadata": {
  "kernelspec": {
   "display_name": "Python 3",
   "language": "python",
   "name": "python3"
  },
  "language_info": {
   "codemirror_mode": {
    "name": "ipython",
    "version": 3
   },
   "file_extension": ".py",
   "mimetype": "text/x-python",
   "name": "python",
   "nbconvert_exporter": "python",
   "pygments_lexer": "ipython3",
   "version": "3.11.4"
  }
 },
 "nbformat": 4,
 "nbformat_minor": 2
}
